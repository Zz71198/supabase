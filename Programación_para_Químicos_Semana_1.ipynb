{
  "nbformat": 4,
  "nbformat_minor": 0,
  "metadata": {
    "colab": {
      "provenance": [],
      "toc_visible": true,
      "include_colab_link": true
    },
    "kernelspec": {
      "name": "python3",
      "display_name": "Python 3"
    },
    "language_info": {
      "name": "python"
    }
  },
  "cells": [
    {
      "cell_type": "markdown",
      "metadata": {
        "id": "view-in-github",
        "colab_type": "text"
      },
      "source": [
        "<a href=\"https://colab.research.google.com/github/Zz71198/supabase/blob/master/Programaci%C3%B3n_para_Qu%C3%ADmicos_Semana_1.ipynb\" target=\"_parent\"><img src=\"https://colab.research.google.com/assets/colab-badge.svg\" alt=\"Open In Colab\"/></a>"
      ]
    },
    {
      "cell_type": "markdown",
      "source": [
        "Antes de iniciar por favor ejecuten 👇"
      ],
      "metadata": {
        "id": "1572dntN0W5U"
      }
    },
    {
      "cell_type": "code",
      "source": [
        "from google.colab import drive\n",
        "drive.mount('/content/drive')\n",
        "\n",
        "%cd \"/content/drive/Shared drives/Programación para químicos\"\n",
        "!ls"
      ],
      "metadata": {
        "colab": {
          "base_uri": "https://localhost:8080/"
        },
        "id": "ZJrz6em54Kce",
        "outputId": "d4c62c82-0f50-40ee-e633-cefbd85d74be"
      },
      "execution_count": null,
      "outputs": [
        {
          "output_type": "stream",
          "name": "stdout",
          "text": [
            "Mounted at /content/drive\n",
            "/content/drive/Shared drives/Programación para químicos\n",
            "'Memes para reutilizar'  'Módulo - átomos y moléculas'\n"
          ]
        }
      ]
    },
    {
      "cell_type": "markdown",
      "source": [
        "# Introducción"
      ],
      "metadata": {
        "id": "rcxw1N7qcbxn"
      }
    },
    {
      "cell_type": "markdown",
      "source": [
        "¡Hola a todos! Nos presentamos: somos Danka Valeria Pérez Rojas y Juan Diego Pérez Bohórquez, y sí, somos estudiantes de química. Esperamos que este pequeño curso les sirva para adquirir el gusto por la programación y los motive a hacer grandes descubrimientos usando esta valiosa herramienta. Y no es para menos, la programación se perfila como una habilidad que todo el mundo deberá tener en esta nueva era científica y tecnológica.\n",
        "\n",
        "Una muestra de la importancia de la computación en química se refleja incluso en el **Premio Nobel de Química** en distintas ocasiones:\n",
        "\n",
        "* **1998** – John Pople recibió el Nobel por el desarrollo de métodos computacionales en Química Cuántica.\n",
        "* **2013** – Martin Karplus, Michael Levitt y Arieh Warshel fueron galardonados por el desarrollo de modelos computacionales para estudiar reacciones químicas complejas.\n",
        "* **2024** – *David Baker, Demis Hassabis y John M. Jumper recibieron el premio por sus avances en el diseño computacional de proteínas y la predicción de sus estructuras mediante el uso de inteligencia artificial.*\n",
        "\n",
        "Como pueden ver, la programación y la química están cada vez más ligadas. A continuación, les mostraremos una pequeña aplicación de código para evidenciar **cómo ha aumentado la cantidad de publicaciones en química que incluyen términos relacionados con programación** a lo largo del tiempo. Para ello, utilizaremos Python para consultar la base de datos de publicaciones académicas *Crossref* y visualizar resultados. ¡Veamos qué encontramos!\n",
        "\n",
        "> **Nota:** Para ejecutar el código en Colab, haz clic en el botón de “Play” ▶️ a la izquierda de la celda de código."
      ],
      "metadata": {
        "id": "sp9U9OWNfis_"
      }
    },
    {
      "cell_type": "code",
      "source": [
        "# @title Gráfico publicaciones\n",
        "# Gráfico 1: Evolución de publicaciones sobre \"programación en química\" (1980-2024)\n",
        "import requests\n",
        "import pandas as pd\n",
        "import matplotlib.pyplot as plt\n",
        "\n",
        "# Lista de años desde 1980 hasta 2024\n",
        "years = list(range(1980, 2025))\n",
        "data = []\n",
        "\n",
        "# Iteramos sobre cada año para consultar la API de Crossref en español e inglés\n",
        "for year in years:\n",
        "    start_date = f\"{year}-01-01\"\n",
        "    end_date = f\"{year}-12-31\"\n",
        "    url = \"https://api.crossref.org/works\"\n",
        "    # Parámetros para la consulta en español e inglés\n",
        "    params_es = {\"query\": \"programación en química\", \"filter\": f\"from-pub-date:{start_date},until-pub-date:{end_date}\", \"rows\": 0}\n",
        "    params_en = {\"query\": \"programming in chemistry\", \"filter\": f\"from-pub-date:{start_date},until-pub-date:{end_date}\", \"rows\": 0}\n",
        "    # Consultar API\n",
        "    res_es = requests.get(url, params=params_es)\n",
        "    res_en = requests.get(url, params=params_en)\n",
        "    count_es = res_es.json()[\"message\"][\"total-results\"] if res_es.status_code == 200 else 0\n",
        "    count_en = res_en.json()[\"message\"][\"total-results\"] if res_en.status_code == 200 else 0\n",
        "    # Almacenamos el resultado total (únicamente sumando ES+EN para este gráfico simple)\n",
        "    data.append({\"Año\": year, \"Artículos totales\": count_es + count_en})\n",
        "\n",
        "# Convertir datos a DataFrame y mostrar una muestra\n",
        "df = pd.DataFrame(data)\n",
        "print(\"Estadística de artículos por año (primeros 5 años):\")\n",
        "print(df.head())\n",
        "\n",
        "# Graficar la evolución total de artículos por año\n",
        "plt.figure(figsize=(12, 6))\n",
        "plt.plot(df[\"Año\"], df[\"Artículos totales\"], marker='o', linestyle='-')\n",
        "plt.xlabel(\"Año\")\n",
        "plt.ylabel(\"Número de artículos\")\n",
        "plt.title(\"Publicaciones sobre 'programming in chemistry/programación en química' (1980-2024)\")\n",
        "plt.grid(True)\n",
        "plt.show()"
      ],
      "metadata": {
        "id": "h4vuR4AzfwWm",
        "colab": {
          "base_uri": "https://localhost:8080/",
          "height": 687
        },
        "cellView": "form",
        "outputId": "bbcdf90e-27a0-41c2-95de-3599ec28173c"
      },
      "execution_count": 9,
      "outputs": [
        {
          "output_type": "stream",
          "name": "stdout",
          "text": [
            "Estadística de artículos por año (primeros 5 años):\n",
            "    Año  Artículos totales\n",
            "0  1980              30607\n",
            "1  1981              30342\n",
            "2  1982              31348\n",
            "3  1983              31379\n",
            "4  1984              32429\n"
          ]
        },
        {
          "output_type": "display_data",
          "data": {
            "text/plain": [
              "<Figure size 1200x600 with 1 Axes>"
            ],
            "image/png": "[encoded data removed]"
          },
          "metadata": {}
        }
      ]
    },
    {
      "cell_type": "markdown",
      "source": [
        "Al ejecutar la celda anterior, se generará una gráfica de línea que muestra el crecimiento en el número de artículos académicos sobre programación en química a lo largo de los años. **Como se esperaba, la tendencia es creciente**: en las últimas décadas, cada vez más publicaciones en química mencionan términos relacionados con programación. Esto evidencia cómo la computación ha ido ganando relevancia en el campo químico."
      ],
      "metadata": {
        "id": "8lZPZmPgf19x"
      }
    },
    {
      "cell_type": "markdown",
      "source": [
        "## Objetivos del módulo"
      ],
      "metadata": {
        "id": "w22WhbBXciVZ"
      }
    },
    {
      "cell_type": "markdown",
      "source": [
        "En este módulo daremos nuestros primeros pasos en el mundo de la programación *aplicada a la química*. La idea es que puedan entender la importancia de la computación en esta área y cómo se ha convertido en una herramienta fundamental para el avance científico.\n",
        "\n",
        "Además, se familiarizarán con **Python**, un lenguaje de programación sencillo pero poderoso, que se ha vuelto estándar en la investigación científica. Al finalizar este módulo, estarán listos para ejecutar su propio **código básico** en Google Colab, una plataforma que les permitirá trabajar en la nube sin necesidad de instalar nada en su computadora. ¡Este será su primer acercamiento práctico al potencial de la programación en química! 🎉\n",
        "\n",
        "<p align=\"center\">\n",
        "  <img src=\"https://i.pinimg.com/originals/4e/75/a2/4e75a28b15f3021e0445250857550dbd.png\" alt=\"Meme 1\" width=\"500\">\n",
        "</p>"
      ],
      "metadata": {
        "id": "_OYclKBgfb_D"
      }
    },
    {
      "cell_type": "markdown",
      "source": [
        "## ¿Por qué Python?\n"
      ],
      "metadata": {
        "id": "FS-tFMz6cme9"
      }
    },
    {
      "cell_type": "markdown",
      "source": [
        "Python es uno de los lenguajes de programación que más ha ganado fuerza en los últimos años, en gran parte por su **simplicidad** y **versatilidad**. Para quienes apenas están iniciando en el mundo de la programación, Python ofrece una curva de aprendizaje amigable: su sintaxis clara permite aprenderlo rápidamente.\n",
        "\n",
        "En ciencia (y particularmente en química), Python se utiliza en infinidad de aplicaciones, desde desarrollo web hasta análisis de datos y simulaciones. ¿Te imaginas hacer cálculos de química cuántica o analizar resultados experimentales con solo un par de líneas de código? Obviamente, algunas cosas pueden requerir más que un par de líneas, ¡pero muchas tareas sí se vuelven más sencillas con Python comparado con métodos tradicionales!\n",
        "\n",
        "Puedes ser lo que quieras ser (igual que Barbie). En resumen, Python te permitirá **automatizar cálculos**, **procesar datos experimentales**, y **modelar fenómenos químicos** con relativa facilidad una vez domines sus fundamentos."
      ],
      "metadata": {
        "id": "pYZP35UOgDoF"
      }
    },
    {
      "cell_type": "markdown",
      "source": [
        "## ¿Por qué Colab?"
      ],
      "metadata": {
        "id": "PNvY27mbgMXh"
      }
    },
    {
      "cell_type": "markdown",
      "source": [
        "Google Colab es una plataforma en la nube que ofrece grandes ventajas frente a entornos locales como Jupyter Notebook u otros IDEs. En Colab no necesitamos instalar ningún programa en nuestro computador; podemos acceder a un entorno listo para programar **desde cualquier dispositivo con internet**. Solo requerimos una cuenta de Google y una buena conexión. Esto lo hace ideal para aprender y compartir código de forma rápida."
      ],
      "metadata": {
        "id": "Wz2OkTzwgSX8"
      }
    },
    {
      "cell_type": "markdown",
      "source": [
        "# Conceptos Básicos de Programación"
      ],
      "metadata": {
        "id": "WM3Q85Lkcqfd"
      }
    },
    {
      "cell_type": "markdown",
      "source": [
        "<p align=\"center\">\n",
        "  <img src=\"https://www.meme-arsenal.com/memes/6e50d6df1dc5ffdcac71c28fe4f14284.jpg\" alt=\"Meme 2\" width=\"400\">\n",
        "</p>\n"
      ],
      "metadata": {
        "id": "uTHJBlgT74ML"
      }
    },
    {
      "cell_type": "markdown",
      "source": [
        "## Elementos básicos de un programa"
      ],
      "metadata": {
        "id": "BkKWFpRicurm"
      }
    },
    {
      "cell_type": "markdown",
      "source": [
        "Al final, todos los programas de computadora se reducen a realizar ciertos tipos de operaciones fundamentales:\n",
        "\n",
        "* **Entrada:** recibir datos (ya sea desde el teclado, un archivo, sensores, etc.).\n",
        "* **Salida:** mostrar o enviar datos (por ejemplo, imprimir en pantalla o guardar en un archivo).\n",
        "* **Operaciones matemáticas:** ejecutar cálculos, como sumas, restas, multiplicaciones, divisiones, etc.\n",
        "* **Operaciones condicionales:** tomar decisiones en base a condiciones lógicas (por ejemplo, ejecutar cierta acción solo si se cumple una condición).\n",
        "* **Repetición:** realizar acciones de forma repetitiva, normalmente hasta cumplir algún criterio o sobre un conjunto de datos (estos son los **bucles** o loops).\n",
        "\n",
        "En los próximos apartados profundizaremos en cada uno de estos conceptos aplicados a Python."
      ],
      "metadata": {
        "id": "5f66aFNXgeb_"
      }
    },
    {
      "cell_type": "markdown",
      "source": [
        "## Variables y Tipos de datos"
      ],
      "metadata": {
        "id": "AZ68cZOZc4Ii"
      }
    },
    {
      "cell_type": "markdown",
      "source": [
        "Una **variable** es un nombre que se refiere (apunta) a un valor almacenado en memoria. Podemos imaginar una variable como una “caja” donde guardamos un dato para usarlo después. En Python, crear una variable es tan sencillo como escribir un nombre válido, el signo `=` y el valor que queremos guardar. Por ejemplo, asignemos la masa atómica del hidrógeno a una variable:"
      ],
      "metadata": {
        "id": "KcHMO8w6gk1X"
      }
    },
    {
      "cell_type": "code",
      "source": [
        "hidrogeno = 1.00794  # masa atómica del Hidrógeno en uma\n",
        "print(\"La masa atómica del hidrógeno es:\", hidrogeno)"
      ],
      "metadata": {
        "colab": {
          "base_uri": "https://localhost:8080/"
        },
        "id": "mUGBe0ixgmfc",
        "outputId": "a1970501-48e6-4086-8f22-5e4c15bf1a9c"
      },
      "execution_count": null,
      "outputs": [
        {
          "output_type": "stream",
          "name": "stdout",
          "text": [
            "La masa atómica del hidrógeno es: 1.00794\n"
          ]
        }
      ]
    },
    {
      "cell_type": "markdown",
      "source": [
        "Al ejecutar lo anterior, la variable `hidrogeno` contiene el valor `1.00794`, y la función `print` muestra el mensaje con ese valor."
      ],
      "metadata": {
        "id": "gQzeYiivgucm"
      }
    },
    {
      "cell_type": "markdown",
      "source": [
        "**Reglas para nombrar variables en Python:**\n",
        "\n",
        "1. El nombre debe reflejar lo que representa la variable (¡que tenga sentido!).\n",
        "2. Puede tener cualquier longitud razonable.\n",
        "3. Puede estar compuesto por letras, números y el carácter `_` (guión bajo), **pero debe comenzar con una letra** (no con número).\n",
        "4. Python distingue entre mayúsculas y minúsculas, es decir, `elemento`, `Elemento` y `ELEMENTO` son nombres distintos. Por convención, suele usarse solo minúsculas para nombres de variables.\n",
        "5. **No** uses nombres que coincidan con las *palabras reservadas* del lenguaje.\n",
        "\n",
        "Las **palabras reservadas** (también llamadas *keywords*) son aquellos identificadores que Python tiene predefinidos para su sintaxis y que no se pueden utilizar como nombres de variable. Algunos ejemplos de palabras reservadas en Python son: `False`, `True`, `None`, `and`, `or`, `not`, `if`, `else`, `for`, `while`, `break`, `continue`, `def`, `return`, `class`, `try`, `except`, `finally`, `import`, `from`, `as`, `pass`, `lambda`, `with` (entre otras). Si intentas usar alguna de ellas como nombre de variable, obtendrás un error de sintaxis. Además, conviene **evitar** usar como nombre de variable el nombre de funciones integradas o módulos (por ejemplo, `print`, `list`, `str`, `math`, etc.), para no *ensombrecerlos* y causar confusiones.\n",
        "\n",
        "Python maneja distintos **tipos de datos** para las variables, según el tipo de valor que almacenan. A continuación se muestra una tabla detallada con los principales tipos"
      ],
      "metadata": {
        "id": "jz5VqBb5g11C"
      }
    },
    {
      "cell_type": "markdown",
      "source": [
        "### **Tabla detallada de los Tipos de Datos en Python**\n",
        "\n",
        "| **Tipo de dato** | **Descripción**                                        | **Categoría** | **Mutable** | **Ordenado** | **Permite duplicados** | **Ejemplo**                           |\n",
        "| ---------------- | ------------------------------------------------------ | ------------- | ----------- | ------------ | ---------------------- | ------------------------------------- |\n",
        "| `int`            | Números enteros (sin parte decimal)                    | Numérico      | No          | N/A          | N/A                    | `edad = 25`                           |\n",
        "| `float`          | Números decimales (punto flotante)                     | Numérico      | No          | N/A          | N/A                    | `precio = 19.99`                      |\n",
        "| `complex`        | Números complejos (parte real e imaginaria)            | Numérico      | No          | N/A          | N/A                    | `numero = 3 + 4j`                     |\n",
        "| `bool`           | Valores lógicos `True` o `False`                       | Booleano      | No          | N/A          | N/A                    | `es_acido = True`                     |\n",
        "| `str`            | Cadena de caracteres (texto)                           | Secuencia     | No          | Sí           | Sí                     | `elemento = \"Oxígeno\"`                |\n",
        "| `list`           | Lista (colección ordenada, indexable y mutable)        | Secuencia     | Sí          | Sí           | Sí                     | `numeros = [1, 2, 3]`                 |\n",
        "| `tuple`          | Tupla (como una lista ordenada pero inmutable)         | Secuencia     | No          | Sí           | Sí                     | `punto = (3.5, 7.2)`                  |\n",
        "| `range`          | Secuencia de números generada dinámicamente            | Secuencia     | No          | Sí           | Sí                     | `r = range(1, 5)`                     |\n",
        "| `set`            | Conjunto (colección de elementos **únicos** sin orden) | Conjunto      | Sí          | No           | No                     | `vocales = {\"a\", \"e\", \"i\", \"o\", \"u\"}` |\n",
        "| `frozenset`      | Conjunto inmutable de elementos únicos                 | Conjunto      | No          | No           | No                     | `dias = frozenset([\"lun\", \"mar\"])`    |\n",
        "| `dict`           | Diccionario (mapeo de claves a valores)                | Mapeo         | Sí          | Sí           | No (en claves)         | `atomos = {\"H\": 1, \"O\": 8}`           |\n",
        "| `bytes`          | Secuencia inmutable de bytes                           | Binario       | No          | Sí           | Sí                     | `dato = b'ABC'`                       |\n",
        "| `bytearray`      | Secuencia mutable de bytes                             | Binario       | Sí          | Sí           | Sí                     | `data = bytearray([120, 121, 122])`   |\n",
        "| `memoryview`     | Vista de memoria de un objeto binario                  | Binario       | Sí          | N/A          | N/A                    | `v = memoryview(bytes(5))`            |\n",
        "| `NoneType`       | Tipo especial para representar ausencia de valor       | Especial      | No          | N/A          | N/A                    | `nada = None`                         |\n",
        "\n",
        "**Notas sobre la tabla:**\n",
        "\n",
        "1. **Mutable**: indica si el objeto puede cambiar después de su creación. Por ejemplo: las listas (`list`), conjuntos (`set`), diccionarios (`dict`), `bytearray` y `memoryview` **sí** se pueden modificar (son mutables). En cambio, los enteros (`int`), flotantes (`float`), cadenas (`str`), tuplas (`tuple`), conjuntos congelados (`frozenset`), booleans (`bool`), bytes (`bytes`) y `NoneType` **no** se pueden modificar una vez creados (son inmutables).\n",
        "2. **Ordenado**: indica si el conjunto de elementos mantiene un orden definido. Las listas, tuplas y diccionarios (en Python 3.7+ los diccionarios mantienen el orden de inserción) son **ordenados**. Los conjuntos (`set` y `frozenset`) no mantienen un orden particular.\n",
        "3. **Permite duplicados**: si la estructura de datos permite tener valores repetidos. Las listas, tuplas y cadenas (`str`) sí pueden contener duplicados. Los conjuntos (`set`, `frozenset`) **no** (elimina valores duplicados automáticamente). En los diccionarios, las claves deben ser únicas (no duplicadas), pero los valores sí pueden repetirse.\n",
        "\n",
        "Como referencia rápida: los tipos más usados inicialmente serán `int`, `float`, `bool`, `str`, `list`, `tuple` y `dict`. Es buena idea empezar enfocándose en ellos."
      ],
      "metadata": {
        "id": "ogITlL6UhH10"
      }
    },
    {
      "cell_type": "markdown",
      "source": [
        "## Operadores"
      ],
      "metadata": {
        "id": "VQNexo9Tc85j"
      }
    },
    {
      "cell_type": "markdown",
      "source": [
        "Estos operadores realizan operaciones matemáticas básicas:\n",
        "\n",
        "| Operador | Descripción                      | Ejemplo  | Resultado |\n",
        "| -------- | -------------------------------- | -------- | --------- |\n",
        "| `+`      | Suma                             | `5 + 3`  | `8`       |\n",
        "| `-`      | Resta                            | `10 - 4` | `6`       |\n",
        "| `*`      | Multiplicación                   | `7 * 3`  | `21`      |\n",
        "| `/`      | División (resultado *float*)     | `8 / 2`  | `4.0`     |\n",
        "| `//`     | División entera (floor division) | `8 // 3` | `2`       |\n",
        "| `%`      | Módulo (resto de la división)    | `10 % 3` | `1`       |\n",
        "| `**`     | Exponenciación (potencia)        | `2 ** 3` | `8`       |\n",
        "\n",
        "#### Operadores lógicos\n",
        "\n",
        "Se usan para construir expresiones lógicas (verdadero/falso):\n",
        "\n",
        "| Operador | Descripción                                             | Ejemplo          | Resultado |\n",
        "| -------- | ------------------------------------------------------- | ---------------- | --------- |\n",
        "| `and`    | Devuelve `True` si **ambas** condiciones son `True`     | `True and False` | `False`   |\n",
        "| `or`     | Devuelve `True` si **al menos una** condición es `True` | `True or False`  | `True`    |\n",
        "| `not`    | Niega (invierte) el valor lógico                        | `not True`       | `False`   |\n",
        "\n",
        "#### Operadores de comparación\n",
        "\n",
        "Comparan dos valores y producen un resultado booleano (`True` o `False`):\n",
        "\n",
        "| Operador | Descripción       | Ejemplo  | Resultado |\n",
        "| -------- | ----------------- | -------- | --------- |\n",
        "| `==`     | Igual a           | `5 == 5` | `True`    |\n",
        "| `!=`     | Distinto de       | `5 != 3` | `True`    |\n",
        "| `>`      | Mayor que         | `5 > 3`  | `True`    |\n",
        "| `<`      | Menor que         | `5 < 3`  | `False`   |\n",
        "| `>=`     | Mayor o igual que | `5 >= 5` | `True`    |\n",
        "| `<=`     | Menor o igual que | `3 <= 5` | `True`    |\n",
        "\n",
        "#### Operadores bit a bit (bitwise)\n",
        "\n",
        "Aplican operaciones lógicas a nivel de bits de los números enteros:\n",
        "\n",
        "| Operador | Descripción                           | Ejemplo      | Resultado (binario -> decimal)      |     |                            |\n",
        "| -------- | ------------------------------------- | ------------ | ----------------------------------- | --- | -------------------------- |\n",
        "| `&`      | AND bit a bit                         | `5 & 3`      | `1`  (0101 & 0011 = 0001)           |     |                            |\n",
        "| \\`       | \\`                                    | OR bit a bit | \\`5                                 | 3\\` | `7`  (0101 \\| 0011 = 0111) |\n",
        "| `^`      | XOR bit a bit                         | `5 ^ 3`      | `6`  (0101 ^ 0011 = 0110)           |     |                            |\n",
        "| `~`      | Complemento (NOT bit a bit)           | `~5`         | `-6` (invierte todos los bits de 5) |     |                            |\n",
        "| `<<`     | Desplazamiento a la izquierda (shift) | `5 << 1`     | `10` (0101 << 1 = 1010)             |     |                            |\n",
        "| `>>`     | Desplazamiento a la derecha           | `5 >> 1`     | `2`  (0101 >> 1 = 0010)             |     |                            |\n",
        "\n",
        "#### Operadores de asignación compuesta\n",
        "\n",
        "Combinan una operación aritmética con la asignación, modificando el valor de la variable:\n",
        "\n",
        "| Operador | Descripción              | Ejemplo (suponiendo `x = 5`) | Equivalente         |       |         |     |\n",
        "| -------- | ------------------------ | ---------------------------- | ------------------- | ----- | ------- | --- |\n",
        "| `=`      | Asignación simple        | `x = 5`                      | asigna 5 a `x`      |       |         |     |\n",
        "| `+=`     | Suma y asigna            | `x += 3`                     | `x = x + 3` → `8`   |       |         |     |\n",
        "| `-=`     | Resta y asigna           | `x -= 2`                     | `x = x - 2` → `3`   |       |         |     |\n",
        "| `*=`     | Multiplica y asigna      | `x *= 3`                     | `x = x * 3` → `15`  |       |         |     |\n",
        "| `/=`     | Divide y asigna          | `x /= 2`                     | `x = x / 2` → `2.5` |       |         |     |\n",
        "| `//=`    | División entera y asigna | `x //= 2`                    | `x = x // 2` → `2`  |       |         |     |\n",
        "| `%=`     | Módulo y asigna          | `x %= 3`                     | `x = x % 3` → `2`   |       |         |     |\n",
        "| `**=`    | Potencia y asigna        | `x **= 2`                    | `x = x ** 2` → `25` |       |         |     |\n",
        "| `&=`     | AND bit a bit y asigna   | `x &= 3`                     | `x = x & 3`         |       |         |     |\n",
        "| \\`       | =\\`                      | OR bit a bit y asigna        | \\`x                 | = 3\\` | \\`x = x | 3\\` |\n",
        "| `^=`     | XOR bit a bit y asigna   | `x ^= 3`                     | `x = x ^ 3`         |       |         |     |\n",
        "| `<<=`    | Desplaza izq. y asigna   | `x <<= 2`                    | `x = x << 2`        |       |         |     |\n",
        "| `>>=`    | Desplaza der. y asigna   | `x >>= 2`                    | `x = x >> 2`        |       |         |     |\n",
        "\n",
        "> **Nota:** Los operadores `&=`, `|=`, `^=`, `<<=`, `>>=` dependen del valor binario previo de `x`. No se muestra un resultado fijo porque varía según el valor original de `x`.\n",
        "\n",
        "#### Operadores de pertenencia (membership)\n",
        "\n",
        "Permiten comprobar si un valor se encuentra dentro de una secuencia o colección:\n",
        "\n",
        "| Operador | Descripción                                                  | Ejemplo            | Resultado |\n",
        "| -------- | ------------------------------------------------------------ | ------------------ | --------- |\n",
        "| `in`     | Devuelve `True` si el elemento **existe** en la secuencia    | `'H' in \"H2O\"`     | `True`    |\n",
        "| `not in` | Devuelve `True` si el elemento **no existe** en la secuencia | `'X' not in \"H2O\"` | `True`    |\n",
        "\n",
        "*(Python también tiene operadores de identidad, `is` / `is not`, para comprobar si dos referencias apuntan al mismo objeto en memoria, pero son usados en contextos específicos.)*\n",
        "\n",
        "#### Precedencia (orden) de operaciones\n",
        "\n",
        "Cuando combinamos múltiples operaciones, existe un orden de precedencia (prioridad) que determina qué operadores se evalúan antes. Esta es la jerarquía de operadores en Python (de mayor a menor prioridad):\n",
        "\n",
        "1. **Paréntesis**: `()` – para agrupar y forzar precedencia.\n",
        "2. **Exponenciación**: `**`.\n",
        "3. **Signo positivo/negativo, complemento**: `+x`, `-x`, `~x`.\n",
        "4. **Multiplicación/División/Módulo**: `*`, `/`, `//`, `%`.\n",
        "5. **Suma y Resta**: `+`, `-`.\n",
        "6. **Desplazamientos**: `<<`, `>>`.\n",
        "7. **AND bit a bit**: `&`.\n",
        "8. **XOR bit a bit**: `^`.\n",
        "9. **OR bit a bit**: `|`.\n",
        "10. **Comparaciones**: `==`, `!=`, `<`, `>`, `<=`, `>=`, `is`, `is not`, `in`, `not in`.\n",
        "11. **NOT lógico**: `not`.\n",
        "12. **AND lógico**: `and`.\n",
        "13. **OR lógico**: `or`.\n",
        "14. **Operador condicional ternario**: `if ... else` (expresiones condicionales en una sola línea).\n",
        "15. **Asignación**: `=`, `+=`, `-=`, etc.\n",
        "16. **Expresiones lambda**: `lambda`.\n",
        "\n",
        "No es necesario memorizar todo este cuadro; es más importante entenderlo conceptualmente. Siempre puedes usar paréntesis para asegurarte de que las operaciones se ejecuten en el orden que deseas."
      ],
      "metadata": {
        "id": "gUzvbNyOhW-_"
      }
    },
    {
      "cell_type": "markdown",
      "source": [
        "## Estructuras condicionales"
      ],
      "metadata": {
        "id": "TBYKu_d4dAs4"
      }
    },
    {
      "cell_type": "markdown",
      "source": [
        "Las **estructuras condicionales** permiten que un programa tome **decisiones** y ejecute ciertas instrucciones solo cuando se cumple una condición. En Python utilizamos las sentencias `if`, `elif` (else-if) y `else` para crear estructuras condicionales.\n",
        "\n",
        "La sintaxis básica es:"
      ],
      "metadata": {
        "id": "hFwDln6kh7Om"
      }
    },
    {
      "cell_type": "code",
      "source": [
        "if condicion_1:\n",
        "    # bloque de código si condicion_1 es True\n",
        "elif condicion_2:\n",
        "    # bloque de código si condicion_1 es False *y* condicion_2 es True\n",
        "else:\n",
        "    # bloque de código si ninguna de las condiciones anteriores fue True"
      ],
      "metadata": {
        "id": "J2hpwU9PhajG",
        "colab": {
          "base_uri": "https://localhost:8080/",
          "height": 106
        },
        "outputId": "9b15918a-90dd-4e8b-c7d9-2b07d9aef453"
      },
      "execution_count": 1,
      "outputs": [
        {
          "output_type": "error",
          "ename": "IndentationError",
          "evalue": "expected an indented block after 'if' statement on line 1 (<ipython-input-1-772f2d6b095e>, line 3)",
          "traceback": [
            "\u001b[0;36m  File \u001b[0;32m\"<ipython-input-1-772f2d6b095e>\"\u001b[0;36m, line \u001b[0;32m3\u001b[0m\n\u001b[0;31m    elif condicion_2:\u001b[0m\n\u001b[0m    ^\u001b[0m\n\u001b[0;31mIndentationError\u001b[0m\u001b[0;31m:\u001b[0m expected an indented block after 'if' statement on line 1\n"
          ]
        }
      ]
    },
    {
      "cell_type": "markdown",
      "source": [
        "* Se evalúa la `condicion_1` (una expresión que resulte True/False). Si es `True`, se ejecuta el bloque indentado bajo `if` y se **sale** de la estructura condicional (no se evalúan las siguientes condiciones).\n",
        "* Si `condicion_1` es `False`, se pasa al `elif condicion_2` y se evalúa. Si `condicion_2` es `True`, se ejecuta su bloque correspondiente. Puede haber múltiples `elif` encadenados para chequear diferentes condiciones en orden.\n",
        "* Si ninguna de las condiciones de los `if/elif` resultó verdadera, se ejecuta el bloque bajo `else` (caso contrario o “en cualquier otro caso”). El `else` es opcional, y se usa solo si se requiere ejecutar algo cuando todas las condiciones fueron falsas.\n",
        "\n",
        "Es crucial la **indentación** (sangría) del código: en Python, los espacios o tabulaciones al inicio de la línea indican qué instrucciones pertenecen a cada bloque. Generalmente se utilizan 4 espacios (o un tab) para cada nivel de indentación.\n",
        "\n",
        "Veamos un ejemplo sencillo relacionado con química: determinar el estado del agua según la temperatura:"
      ],
      "metadata": {
        "id": "erFsIGgzhfx4"
      }
    },
    {
      "cell_type": "code",
      "source": [
        "temperatura = float(input(\"Ingrese la temperatura en °C: \"))\n",
        "\n",
        "if temperatura >= 100:\n",
        "    print(\"A esta temperatura, el agua estaría en estado *gaseoso* (vapor).\")\n",
        "elif temperatura >= 0:\n",
        "    print(\"A esta temperatura, el agua estaría en estado *líquido*.\")\n",
        "else:\n",
        "    print(\"A esta temperatura, el agua estaría en estado *sólido* (hielo).\")"
      ],
      "metadata": {
        "id": "upQWxmZRhkl7"
      },
      "execution_count": null,
      "outputs": []
    },
    {
      "cell_type": "markdown",
      "source": [
        "Prueba diferentes valores de `temperatura` para verificar la lógica. Observa cómo, gracias a las estructuras condicionales, el programa decide qué mensaje mostrar según el valor ingresado.\n",
        "\n",
        "Otro ejemplo: determinemos si una solución es ácida, básica o neutra en función de su **pH**:"
      ],
      "metadata": {
        "id": "W49Z3MmHhold"
      }
    },
    {
      "cell_type": "code",
      "source": [
        "pH = float(input(\"Ingrese el pH de la solución: \"))\n",
        "\n",
        "if pH < 7:\n",
        "    print(\"La solución es ácida\")\n",
        "elif pH > 7:\n",
        "    print(\"La solución es básica\")\n",
        "else:\n",
        "    print(\"La solución es neutra\")"
      ],
      "metadata": {
        "id": "2kuxgpl6ht2P"
      },
      "execution_count": null,
      "outputs": []
    },
    {
      "cell_type": "markdown",
      "source": [
        "En este caso, si ingresas un valor menor que 7, solo se ejecutará el bloque del `if`. Si ingresas exactamente 7, se saltean los bloques `if` y `elif` y se ejecuta el `else`. ¡Intenta jugar con esos ejemplos para afianzar tu comprensión!"
      ],
      "metadata": {
        "id": "NmnSDQathy-Y"
      }
    },
    {
      "cell_type": "markdown",
      "source": [
        "## Bucles (loops)"
      ],
      "metadata": {
        "id": "q44wxvBbdEfi"
      }
    },
    {
      "cell_type": "markdown",
      "source": [
        "Los **bucles** o estructuras de repetición permiten ejecutar un bloque de código múltiples veces de forma automática. Python tiene principalmente dos tipos de bucles: **`for`** y **`while`**.\n",
        "\n",
        "* **Bucle `for`:** se utiliza para **iterar** sobre los elementos de una secuencia (por ejemplo, una lista, una cadena, un rango de números, etc.). En cada iteración, la variable de iteración toma el valor del siguiente elemento de la secuencia, y se ejecuta el bloque de código interno usando ese valor.\n",
        "\n",
        "  **Ejemplo 1:** recorrer una lista de símbolos químicos e imprimirlos uno a uno."
      ],
      "metadata": {
        "id": "fDh58aLZiQtS"
      }
    },
    {
      "cell_type": "code",
      "source": [
        "elementos = [\"H\", \"He\", \"Li\", \"Be\", \"B\"]\n",
        "for simbolo in elementos:\n",
        "  print(\"Elemento:\", simbolo)"
      ],
      "metadata": {
        "colab": {
          "base_uri": "https://localhost:8080/"
        },
        "id": "Qax9YNJkiU6k",
        "outputId": "ae2d6b8a-b509-4970-c8ec-ab2c8aca5670"
      },
      "execution_count": null,
      "outputs": [
        {
          "output_type": "stream",
          "name": "stdout",
          "text": [
            "Elemento: H\n",
            "Elemento: He\n",
            "Elemento: Li\n",
            "Elemento: Be\n",
            "Elemento: B\n"
          ]
        }
      ]
    },
    {
      "cell_type": "markdown",
      "source": [
        "  **Salida:**\n",
        "\n",
        "  ```\n",
        "  Elemento: H  \n",
        "  Elemento: He  \n",
        "  Elemento: Li  \n",
        "  Elemento: Be  \n",
        "  Elemento: B  \n",
        "  ```\n",
        "\n",
        "  **Ejemplo 2:** usar `for` con `range()` para repetir algo un número fijo de veces."
      ],
      "metadata": {
        "id": "S-acJC16ihCO"
      }
    },
    {
      "cell_type": "code",
      "source": [
        "# Imprimir los números del 1 al 5\n",
        "for numero in range(1, 6):\n",
        "  print(numero)"
      ],
      "metadata": {
        "colab": {
          "base_uri": "https://localhost:8080/"
        },
        "id": "goJXD4AEilI1",
        "outputId": "0c9aa2db-8a98-4744-8f90-2e9c66ae866a"
      },
      "execution_count": null,
      "outputs": [
        {
          "output_type": "stream",
          "name": "stdout",
          "text": [
            "1\n",
            "2\n",
            "3\n",
            "4\n",
            "5\n"
          ]
        }
      ]
    },
    {
      "cell_type": "markdown",
      "source": [
        "  Esto imprimirá `1 2 3 4 5` (cada uno en una línea separada). La función `range(1, 6)` genera la secuencia `1,2,3,4,5` (el valor final 6 no se incluye).\n",
        "\n",
        "* **Bucle `while`:** se utiliza para repetir un bloque de código **mientras** se cumpla una condición. Es útil cuando no sabemos de antemano cuántas iteraciones se necesitarán, y la repetición depende de una condición que cambia durante el ciclo.\n",
        "\n",
        "  **Ejemplo:**"
      ],
      "metadata": {
        "id": "CFT8889yiqh3"
      }
    },
    {
      "cell_type": "code",
      "source": [
        "# Calcular el primer número n tal que 2^n supera 1000\n",
        "n = 1\n",
        "potencia = 2  # 2^1\n",
        "while potencia <= 1000:\n",
        "  n += 1\n",
        "  potencia = 2 ** n\n",
        "print(f\"El primer exponente n para el que 2^n supera 1000 es n = {n}, ya que 2^{n} = {potencia}.\")"
      ],
      "metadata": {
        "colab": {
          "base_uri": "https://localhost:8080/"
        },
        "id": "3tqEAFCXivur",
        "outputId": "1fed772b-b33a-421e-edbb-22ea45410f1c"
      },
      "execution_count": null,
      "outputs": [
        {
          "output_type": "stream",
          "name": "stdout",
          "text": [
            "El primer exponente n para el que 2^n supera 1000 es n = 10, ya que 2^10 = 1024.\n"
          ]
        }
      ]
    },
    {
      "cell_type": "markdown",
      "source": [
        "  Aquí el bucle `while` seguirá multiplicando 2 hasta que la potencia exceda 1000. Dentro del bucle, vamos actualizando `n` y recalculando `potencia`. Cuando la condición `potencia <= 1000` deje de cumplirse, el bucle terminará y se imprimirá el resultado.\n",
        "\n",
        "\n",
        "**Precaución:** en los bucles `while` es fundamental que dentro del bloque se *modifique* la condición en algún momento, para evitar bucles infinitos. En el ejemplo anterior, incrementamos `n` en cada iteración, de modo que eventualmente `potencia` dejará de ser <= 1000. Si, por error, olvidáramos actualizar `n` o `potencia` dentro del bucle, este nunca terminaría.\n",
        "\n",
        "En resumen, usa **`for`** cuando tengas una colección de elementos o un rango determinado de iteraciones. Usa **`while`** cuando la repetición dependa de una condición más general y no sepas de antemano cuántas veces deberá ejecutarse el ciclo."
      ],
      "metadata": {
        "id": "hVwz5Wa9i8cq"
      }
    },
    {
      "cell_type": "markdown",
      "source": [
        "## Manejo de archivos y contexto con `with`\n",
        "\n"
      ],
      "metadata": {
        "id": "A9OWNFWs_NxI"
      }
    },
    {
      "cell_type": "markdown",
      "source": [
        "En muchas ocasiones necesitaremos **leer o escribir archivos** de texto que contienen datos químicos (por ejemplo, resultados de un experimento o propiedades de sustancias). La sentencia `with` en Python nos facilita el manejo seguro de archivos, ya que se encarga de **abrir** el archivo y **cerrarlo automáticamente** al terminar, incluso si ocurre algún error en el camino. Esto nos evita el clásico descuido de dejar un archivo abierto (¡a nadie le gusta dejar archivos “desperdiciando” recursos, igual que un laboratorio desordenado!).\n",
        "\n",
        "**Sintaxis básica:**"
      ],
      "metadata": {
        "id": "JOmA08ue_d6k"
      }
    },
    {
      "cell_type": "code",
      "source": [
        "with open(\"nombre_archivo.txt\", \"r\") as archivo:\n",
        "  # Bloque de código para leer/procesar el archivo\n",
        "  contenido = archivo.read()\n",
        "  # El archivo se cierra automáticamente al salir del bloque"
      ],
      "metadata": {
        "id": "I06qaaPN_fJR"
      },
      "execution_count": null,
      "outputs": []
    },
    {
      "cell_type": "markdown",
      "source": [
        "**Ejemplo:** Supongamos que tenemos un archivo de texto con datos de masa atómica de algunos elementos, llamado `masas_atomicas.txt`. Cada línea tiene el símbolo del elemento y su masa atómica en uma, separados por coma, por ejemplo:\n",
        "\n",
        "```\n",
        "H,1.008  \n",
        "O,15.999  \n",
        "Na,22.989  \n",
        "Cl,35.45  \n",
        "```\n",
        "\n",
        "Usando `with`, podemos leer este archivo y procesar sus datos fácilmente:"
      ],
      "metadata": {
        "id": "JPVZOu6R_mWl"
      }
    },
    {
      "cell_type": "code",
      "source": [
        "# Creamos un archivo de ejemplo (esto normalmente ya existiría en la práctica)\n",
        "with open(\"masas_atomicas.txt\", \"w\") as archivo:\n",
        "    archivo.write(\"H,1.008\\nO,15.999\\nNa,22.989\\nCl,35.45\")\n",
        "\n",
        "# Ahora leemos el archivo usando with\n",
        "with open(\"masas_atomicas.txt\", \"r\") as archivo:\n",
        "  lineas = archivo.readlines()         # Leer todas las líneas\n",
        "  for linea in lineas:\n",
        "    simbolo, masa = linea.split(\",\") # Separar símbolo y masa por la coma\n",
        "    masa = float(masa)               # Convertir la masa de texto a float\n",
        "    print(f\"La masa atómica de {simbolo} es {masa} u\")"
      ],
      "metadata": {
        "colab": {
          "base_uri": "https://localhost:8080/",
          "height": 0
        },
        "id": "dt9kUix5_2jf",
        "outputId": "a79affb9-65c8-4dfe-a53f-f5105a9249f1"
      },
      "execution_count": 3,
      "outputs": [
        {
          "output_type": "stream",
          "name": "stdout",
          "text": [
            "La masa atómica de H es 1.008 u\n",
            "La masa atómica de O es 15.999 u\n",
            "La masa atómica de Na es 22.989 u\n",
            "La masa atómica de Cl es 35.45 u\n"
          ]
        }
      ]
    },
    {
      "cell_type": "markdown",
      "source": [
        "Al ejecutar el código anterior, Python imprimirá la masa atómica de cada elemento y **cerrará el archivo automáticamente** al terminar la lectura. No tuvimos que llamar a `archivo.close()` manualmente; `with` se encargó de ello.\n",
        "\n",
        "> **Nota:** La sentencia `with` no solo funciona con archivos, sino con *cualquier recurso* que se comporte como un **context manager** (gestor de contexto). Por ejemplo, se usa para manejar conexiones a bases de datos, asegurar que locks (seguros) se liberen, etc. En química computacional, podríamos usar `with` para abrir conexiones a instrumentos virtuales o simulaciones, garantizando su correcta finalización. Pero el uso más común que verás es en archivos.\n",
        "\n",
        "**Ejercicio:** Imagina que tienes un archivo de datos llamado `datos_experimento.txt` que contiene en cada línea la temperatura (°C) registrada cada hora en una reacción química. Escribe un código que use `with` para abrir el archivo, leer las temperaturas y calcular la **temperatura promedio** del experimento. Guarda el resultado en una variable `promedio_temp`. *(Pista: puedes usar `.split()` para separar los datos si las líneas tienen múltiples valores, o simplemente convertir cada línea a float si es un número por línea.)*\n",
        "\n",
        "<details>\n",
        "<summary>Solución</summary>\n",
        "\n",
        "```python\n",
        "# Creamos un archivo de ejemplo para el ejercicio\n",
        "with open(\"datos_experimento.txt\", \"w\") as arch:\n",
        "    arch.write(\"20.5\\n22.0\\n21.5\\n23.1\\n19.8\")  # 5 mediciones de temperatura\n",
        "\n",
        "promedio_temp = None  # Inicializamos la variable\n",
        "suma = 0.0\n",
        "contador = 0\n",
        "\n",
        "with open(\"datos_experimento.txt\", \"r\") as arch:\n",
        "    for linea in arch:\n",
        "        # Convertir la línea a float y acumular\n",
        "        temp = float(linea.strip())\n",
        "        suma += temp\n",
        "        contador += 1\n",
        "# Al salir del bloque with, el archivo se cerró automáticamente\n",
        "promedio_temp = suma / contador if contador != 0 else 0.0\n",
        "\n",
        "print(f\"Temperatura promedio: {promedio_temp:.2f} °C\")\n",
        "```\n",
        "\n",
        "</details>"
      ],
      "metadata": {
        "id": "7SHA3dp9AGxB"
      }
    },
    {
      "cell_type": "markdown",
      "source": [
        "## Definiendo funciones en Python con `def`"
      ],
      "metadata": {
        "id": "4xdNVg02ARsa"
      }
    },
    {
      "cell_type": "markdown",
      "source": [
        "Hasta ahora hemos ejecutado código secuencialmente, pero a medida que los programas crecen, es útil **reutilizar** bloques de código y organizar cálculos en unidades lógicas. Para eso existen las **funciones definidas por el usuario**. En Python creamos una función usando la palabra clave `def`.\n",
        "\n",
        "**¿Qué es una función?** Es un bloque de código con un nombre, que realiza una tarea específica y que podemos \"llamar\" (ejecutar) múltiples veces en diferentes lugares del programa, posiblemente con diferentes datos. Las funciones nos permiten evitar repetir código y hacen nuestro programa más modular y legible.\n",
        "\n",
        "**Sintaxis básica:**\n",
        "\n",
        "```python\n",
        "def nombre_de_la_funcion(param1, param2, ...):\n",
        "    \"\"\"Documentación breve de lo que hace la función (opcional)\"\"\"\n",
        "    # Cuerpo de la función: una serie de instrucciones\n",
        "    # (normalmente culminando en un retorno de valor)\n",
        "    resultado = hacer_algo_con(param1, param2)\n",
        "    return resultado\n",
        "```\n",
        "\n",
        "* Usamos `def` seguido del nombre de la función y paréntesis `()` con parámetros de entrada.\n",
        "* Dentro de la función (identado una nivel hacia adentro) escribimos el código que queremos ejecutar cada vez que llamemos a la función. Podemos usar los parámetros como variables locales.\n",
        "* La función puede opcionalmente usar la instrucción `return` para **devolver** un valor o resultado al que llama. Si no se incluye `return`, la función devuelve `None` por defecto.\n",
        "* La cadena entre triple comillas justo después de la definición (docstring) es una **documentación** opcional que describe la función; es buena práctica incluirla para recordar qué hace la función.\n",
        "\n",
        "Veamos un ejemplo práctico en química: definiremos una función para calcular la **masa molecular** de un compuesto. Para simplificar, le pasaremos la composición del compuesto como un diccionario con los elementos y sus cantidades, y utilizaremos un diccionario global de masas atómicas."
      ],
      "metadata": {
        "id": "081ReuhIAWaB"
      }
    },
    {
      "cell_type": "code",
      "source": [
        "# Diccionario de masas atómicas (umas) para algunos elementos comunes\n",
        "masas_atomicas = {\n",
        "    \"H\": 1.008,\n",
        "    \"C\": 12.01,\n",
        "    \"O\": 15.999,\n",
        "    \"N\": 14.01,\n",
        "    \"Na\": 22.99,\n",
        "    \"Cl\": 35.45\n",
        "}\n",
        "\n",
        "def calcular_masa_molecular(composicion):\n",
        "    \"\"\"Calcula la masa molecular a partir de una composición dada.\n",
        "    composicion: diccionario {elemento: moles_del_elemento_en_la_formula}\"\"\"\n",
        "    masa_total = 0.0\n",
        "    for elemento, cantidad in composicion.items():\n",
        "        if elemento in masas_atomicas:\n",
        "            masa_elemento = masas_atomicas[elemento] * cantidad\n",
        "            masa_total += masa_elemento\n",
        "        else:\n",
        "            print(f\"Elemento '{elemento}' no encontrado en la tabla de masas.\")\n",
        "    return masa_total\n",
        "\n",
        "# Ejemplo: calcular la masa molecular del agua (H2O -> H:2, O:1) y del cloruro de sodio (NaCl -> Na:1, Cl:1)\n",
        "agua = {\"H\": 2, \"O\": 1}\n",
        "sal = {\"Na\": 1, \"Cl\": 1}\n",
        "print(f\"Masa molecular del agua: {calcular_masa_molecular(agua):.3f} u\")\n",
        "print(f\"Masa molecular del NaCl: {calcular_masa_molecular(sal):.3f} u\")"
      ],
      "metadata": {
        "colab": {
          "base_uri": "https://localhost:8080/",
          "height": 0
        },
        "id": "1tpNOC4fAkZ7",
        "outputId": "4446c264-8921-4295-d987-660d906ea224"
      },
      "execution_count": 4,
      "outputs": [
        {
          "output_type": "stream",
          "name": "stdout",
          "text": [
            "Masa molecular del agua: 18.015 u\n",
            "Masa molecular del NaCl: 58.440 u\n"
          ]
        }
      ]
    },
    {
      "cell_type": "markdown",
      "source": [
        "En este ejemplo, definimos `calcular_masa_molecular` que toma un diccionario con la composición de un compuesto. Usamos el diccionario `masas_atomicas` para obtener la masa de cada elemento y multiplicarla por la cantidad presente, acumulando el total. Fíjate que usamos un `return masa_total` para devolver el resultado y poder reutilizarlo (por ejemplo, lo usamos directamente dentro de `f-strings` para imprimir).\n",
        "\n",
        "**Llamar una función:** Una vez definida, podemos **llamar** a `calcular_masa_molecular(agua)` tantas veces como queramos con distintas composiciones, en cualquier parte posterior del código.\n",
        "\n",
        "**Parámetros y argumentos:** En la definición usamos *parámetros* (variables locales que representan lo que la función necesita). Al llamar a la función, pasamos *argumentos* concretos (por ejemplo, el diccionario `agua`), que toman el lugar de esos parámetros dentro de la función.\n",
        "\n",
        "**Ejercicio:** Crea una función llamada `calcular_moles(masa_gramos, peso_molecular)` que calcule el número de moles dado una masa en gramos y el peso molecular del compuesto. Usa la fórmula de moles = masa (g) / peso molecular (g/mol). Luego, prueba la función calculando cuántos moles son 10 gramos de agua (peso molecular aprox. 18 g/mol). Guarda el resultado en una variable `moles_agua`.\n",
        "\n",
        "<details>\n",
        "<summary>Solución</summary>\n",
        "\n",
        "```python\n",
        "def calcular_moles(masa_gramos, peso_molecular):\n",
        "    \"\"\"Calcula moles a partir de masa (g) y peso molecular (g/mol).\"\"\"\n",
        "    moles = masa_gramos / peso_molecular\n",
        "    return moles\n",
        "\n",
        "# Probamos la función con 10 g de agua (H2O ~ 18 g/mol)\n",
        "moles_agua = calcular_moles(10, 18.015)\n",
        "print(f\"En 10 g de H2O hay aproximadamente {moles_agua:.3f} moles\")\n",
        "```\n",
        "\n",
        "</details>"
      ],
      "metadata": {
        "id": "YbcrvK8UAtgk"
      }
    },
    {
      "cell_type": "markdown",
      "source": [
        "## Parámetros especiales `*args` y `**kwargs`"
      ],
      "metadata": {
        "id": "8Sdi06o-Aw29"
      }
    },
    {
      "cell_type": "markdown",
      "source": [
        "Cuando definimos funciones, normalmente especificamos un número fijo de parámetros. Sin embargo, ¿qué pasa si queremos que nuestra función pueda aceptar **un número variable de argumentos**? Ahí entran en juego `*args` y `**kwargs`, dos mecanismos especiales de Python.\n",
        "\n",
        "* `*args` permite a una función recibir **cualquier cantidad de argumentos posicionales** (no nombrados). Dentro de la función, `*args` se comporta como una **tupla** que contiene todos los argumentos posicionales recibidos más allá de los parámetros regulares definidos.\n",
        "* `**kwargs` permite recibir **cualquier cantidad de argumentos con nombre** (keywords). Dentro de la función, `**kwargs` será un **diccionario** donde las claves son los nombres de los argumentos extra y los valores son los valores correspondientes que se pasaron.\n",
        "\n",
        "Estos nombres (`args` y `kwargs`) son convencionales, pero podríamos usar otros; lo importante son los `*` y `**`. En español a veces nos referimos a ellos como “argumentos variables”.\n",
        "\n",
        "**¿Por qué usarlos?** Son útiles cuando no sabemos de antemano cuántos argumentos podrían pasarse. Por ejemplo, una función que deba sumar una cantidad *arbitraria* de números puede definirse con `*args`. O una función que deba configurar opciones varias podría usar `**kwargs` para aceptar diferentes parámetros opcionales.\n",
        "\n",
        "Veamos ejemplos sencillos:"
      ],
      "metadata": {
        "id": "TMQDmlhUA0sA"
      }
    },
    {
      "cell_type": "code",
      "source": [
        "# Ejemplo de *args: función que suma cualquier cantidad de números\n",
        "def sumar_todo(*args):\n",
        "    total = 0\n",
        "    for numero in args:\n",
        "        total += numero\n",
        "    return total\n",
        "\n",
        "print(sumar_todo(5, 10))           # 15  (dos argumentos)\n",
        "print(sumar_todo(1, 2, 3, 4, 5))   # 15  (cinco argumentos, ¡los que queramos!)\n",
        "print(sumar_todo())               # 0   (sin argumentos también funciona)\n",
        "\n",
        "# Ejemplo de **kwargs: función que imprime propiedades de un compuesto químico\n",
        "def describir_compuesto(**kwargs):\n",
        "    for clave, valor in kwargs.items():\n",
        "        print(f\"{clave}: {valor}\")\n",
        "\n",
        "# Llamamos pasando distintos argumentos nombrados\n",
        "describir_compuesto(nombre=\"Agua\", formula=\"H2O\", estado=\"líquido\")\n",
        "# Esto imprimirá:\n",
        "# nombre: Agua\n",
        "# formula: H2O\n",
        "# estado: líquido"
      ],
      "metadata": {
        "colab": {
          "base_uri": "https://localhost:8080/",
          "height": 0
        },
        "id": "EgXU27z4BBOu",
        "outputId": "c0aba5ff-0913-422a-9f81-c378ba31f34f"
      },
      "execution_count": 5,
      "outputs": [
        {
          "output_type": "stream",
          "name": "stdout",
          "text": [
            "15\n",
            "15\n",
            "0\n",
            "nombre: Agua\n",
            "formula: H2O\n",
            "estado: líquido\n"
          ]
        }
      ]
    },
    {
      "cell_type": "markdown",
      "source": [
        "En `sumar_todo`, cualquier cantidad de números que pasemos serán accesibles dentro de la función como una tupla llamada `args`. En `describir_compuesto`, podemos pasar, por ejemplo, `nombre=\"Agua\", formula=\"H2O\"` y dentro de la función `kwargs` será `{\"nombre\": \"Agua\", \"formula\": \"H2O\", ...}`. Luego iteramos ese diccionario para mostrar cada propiedad.\n",
        "\n",
        "Ten en cuenta que `*args` y `**kwargs` **no son mágicos**: simplemente reúnen los argumentos extra. Dentro de la función podemos manejarlos como lo que son (tupla o diccionario respectivamente). También podemos combinarlos con parámetros normales. Por ejemplo:\n",
        "\n",
        "```python\n",
        "def ejemplo(mi_arg_obligatorio, *args, **kwargs):\n",
        "    print(mi_arg_obligatorio)\n",
        "    print(\"args:\", args)\n",
        "    print(\"kwargs:\", kwargs)\n",
        "\n",
        "ejemplo(42, 3.14, \"hola\", clave1=\"valor1\", clave2=\"valor2\")\n",
        "```\n",
        "\n",
        "Imprimirá `42` (el obligatorio), luego `args: (3.14, 'hola')` y `kwargs: {'clave1': 'valor1', 'clave2': 'valor2'}`.\n",
        "\n",
        "**Ejercicio:** Escribe una función `promedio_variable(*args)` que calcule el promedio de una cantidad cualquiera de valores numéricos que se le pasen. Si no se pasa ningún valor, que devuelva 0. Por ejemplo, `promedio_variable(10, 20, 30)` debería devolver 20. Prueba la función con diferentes cantidades de argumentos.\n",
        "\n",
        "<details>\n",
        "<summary>Solución</summary>\n",
        "\n",
        "```python\n",
        "def promedio_variable(*args):\n",
        "    \"\"\"Calcula el promedio de los valores dados en args.\"\"\"\n",
        "    if len(args) == 0:\n",
        "        return 0\n",
        "    suma = sum(args)\n",
        "    return suma / len(args)\n",
        "\n",
        "# Pruebas de la función\n",
        "print(promedio_variable(10, 20, 30))     # 20.0\n",
        "print(promedio_variable(5, 7))           # 6.0\n",
        "print(promedio_variable(42))             # 42.0\n",
        "print(promedio_variable())               # 0\n",
        "```\n",
        "\n",
        "</details>"
      ],
      "metadata": {
        "id": "Ur_Z9EeVBLh9"
      }
    },
    {
      "cell_type": "markdown",
      "source": [
        "## Métodos comunes de objetos: strings, listas y diccionarios"
      ],
      "metadata": {
        "id": "d3IxSUhHBY60"
      }
    },
    {
      "cell_type": "markdown",
      "source": [
        "En Python, **todos los datos son objetos**, y cada objeto viene con funciones incorporadas llamadas **métodos**, que nos permiten realizar operaciones útiles sobre esos objetos de manera conveniente. Un método no es más que una función **propia del objeto** que se invoca usando la sintaxis `objeto.metodo()`. Aprenderemos algunos métodos comunes de tres tipos fundamentales: *cadenas de texto (strings), listas y diccionarios*."
      ],
      "metadata": {
        "id": "mfiQyva3Bevo"
      }
    },
    {
      "cell_type": "markdown",
      "source": [
        "### Métodos de cadenas (string) más usados"
      ],
      "metadata": {
        "id": "fFTReyNkBnuH"
      }
    },
    {
      "cell_type": "markdown",
      "source": [
        "Imagina que manejamos nombres de compuestos químicos, fórmulas en texto, o resultados en forma de cadena. Los strings en Python tienen métodos muy prácticos para manipular texto:\n",
        "\n",
        "* `upper()` y `lower()`: devuelven una copia del string en mayúsculas o minúsculas, respectivamente. Útiles para normalizar datos (por ejemplo, comparar \"agua\" y \"AGUA\" en forma consistente).\n",
        "* `replace(viejo, nuevo)`: devuelve una nueva cadena donde todas las ocurrencias del texto `viejo` se sustituyen por `nuevo`. Por ejemplo, podríamos corregir un nombre: `\"Acido acetilsalicilico\".replace(\"Acido\", \"Ácido\")`.\n",
        "* `split(sep)`: separa la cadena en una lista de subcadenas, usando `sep` como delimitador. Muy útil para leer datos separados por comas, espacios, etc. Ejemplo: `\"H2O,NaCl,CH4\".split(\",\")` produce `[\"H2O\", \"NaCl\", \"CH4\"]`.\n",
        "* `strip()` : elimina espacios en blanco (u otros caracteres) al **inicio y final** de la cadena. Ideal para limpiar entradas de texto o líneas de un archivo que puedan tener saltos de línea `\\n`.\n",
        "\n",
        "**Ejemplo rápido (string):**"
      ],
      "metadata": {
        "id": "NRrpWmOUBqhT"
      }
    },
    {
      "cell_type": "code",
      "source": [
        "nombre = \"ácido acetilsalicilico\"\n",
        "print(nombre.upper())         # \"ÁCIDO ACETILSALICILICO\"\n",
        "print(nombre.capitalize())    # \"Ácido acetilsalicilico\" (primera letra en mayúscula)\n",
        "formula = \"H2O,NaCl,CH4\"\n",
        "lista_compuestos = formula.split(\",\")\n",
        "print(lista_compuestos)       # ['H2O', 'NaCl', 'CH4']\n",
        "texto = \"  Dato experimental  \\n\"\n",
        "print(texto.strip())          # \"Dato experimental\""
      ],
      "metadata": {
        "colab": {
          "base_uri": "https://localhost:8080/",
          "height": 0
        },
        "id": "4VrEj_-FBvSx",
        "outputId": "f0fc4f6a-0cec-43b5-8b73-83245eda657e"
      },
      "execution_count": 6,
      "outputs": [
        {
          "output_type": "stream",
          "name": "stdout",
          "text": [
            "ÁCIDO ACETILSALICILICO\n",
            "Ácido acetilsalicilico\n",
            "['H2O', 'NaCl', 'CH4']\n",
            "Dato experimental\n"
          ]
        }
      ]
    },
    {
      "cell_type": "markdown",
      "source": [
        "En el código anterior, convertimos un nombre a mayúsculas, luego usamos `capitalize()` (otro método útil que pone en mayúscula solo la primera letra). Después, `split` separa una cadena de fórmulas en una lista usando la coma, y `strip` limpia los espacios y salto de línea de un texto."
      ],
      "metadata": {
        "id": "YXSKy0kMB1B2"
      }
    },
    {
      "cell_type": "markdown",
      "source": [
        "### Métodos de listas más usados"
      ],
      "metadata": {
        "id": "F_xdVthNB3U-"
      }
    },
    {
      "cell_type": "markdown",
      "source": [
        "Las **listas** son muy flexibles y también tienen métodos para manipular sus elementos:\n",
        "\n",
        "* `append(elemento)`: agrega un elemento al **final** de la lista. Podemos usarlo para ir construyendo una lista de resultados o datos recopilados.\n",
        "* `extend(otra_lista)`: agrega todos los elementos de `otra_lista` al final de la lista original, extendiéndola.\n",
        "* `insert(indice, elem)`: inserta un elemento en una posición específica de la lista.\n",
        "* `pop(indice)`: elimina y devuelve el elemento en la posición dada (por defecto, el último si no se especifica índice). Útil para sacar elementos de una lista.\n",
        "* `sort()` : ordena la lista **en lugar** (modificando la lista original). También existe `sorted(lista)` como función integrada que devuelve una lista nueva ordenada.\n",
        "* `reverse()`: invierte el orden de la lista.\n",
        "\n",
        "**Ejemplo:**"
      ],
      "metadata": {
        "id": "toura4FOB7j2"
      }
    },
    {
      "cell_type": "code",
      "source": [
        "elementos = [\"H\", \"O\", \"C\"]\n",
        "elementos.append(\"N\")\n",
        "print(elementos)        # ['H', 'O', 'C', 'N']\n",
        "elementos.insert(1, \"Cl\")\n",
        "print(elementos)        # ['H', 'Cl', 'O', 'C', 'N']\n",
        "elementos.pop()         # Quita el último elemento \"N\"\n",
        "print(elementos)        # ['H', 'Cl', 'O', 'C']\n",
        "elementos.sort()\n",
        "print(elementos)        # ['C', 'Cl', 'H', 'O']  (ordenado alfabéticamente)\n",
        "elementos.reverse()\n",
        "print(elementos)        # ['O', 'H', 'Cl', 'C']  (lista invertida)"
      ],
      "metadata": {
        "colab": {
          "base_uri": "https://localhost:8080/",
          "height": 0
        },
        "id": "3kmB3a4PB9Xf",
        "outputId": "70a1bfb5-5ef9-4263-d3dc-94c5072011e2"
      },
      "execution_count": 7,
      "outputs": [
        {
          "output_type": "stream",
          "name": "stdout",
          "text": [
            "['H', 'O', 'C', 'N']\n",
            "['H', 'Cl', 'O', 'C', 'N']\n",
            "['H', 'Cl', 'O', 'C']\n",
            "['C', 'Cl', 'H', 'O']\n",
            "['O', 'H', 'Cl', 'C']\n"
          ]
        }
      ]
    },
    {
      "cell_type": "markdown",
      "source": [
        "En este ejemplo, partimos de una lista de símbolos de elementos. Luego: añadimos \"N\" con `append`; insertamos \"Cl\" en la posición 1; quitamos el último elemento con `pop`; ordenamos la lista alfabéticamente con `sort` y finalmente la invertimos con `reverse`. Estas operaciones son comunes cuando manejamos listas de datos experimentales, listas de compuestos, etc."
      ],
      "metadata": {
        "id": "UGZsk9yOCIpM"
      }
    },
    {
      "cell_type": "markdown",
      "source": [
        "### Métodos de diccionarios más usados"
      ],
      "metadata": {
        "id": "xtN13MG-CM2_"
      }
    },
    {
      "cell_type": "markdown",
      "source": [
        "Los **diccionarios** (`dict`) almacenan pares clave-valor (por ejemplo, símbolo de elemento -> masa atómica). Sus métodos más útiles incluyen:\n",
        "\n",
        "* `keys()`: devuelve una vista (iterable) de todas las claves.\n",
        "* `values()`: devuelve una vista de todos los valores.\n",
        "* `items()`: devuelve pares `(clave, valor)` en el diccionario, ideal para iterar.\n",
        "* `get(clave, valor_por_defecto)`: busca la clave y devuelve su valor; si la clave no existe, devuelve `valor_por_defecto` (útil para evitar errores).\n",
        "* `update(otro_dict)`: fusiona/actualiza el diccionario con pares de `otro_dict`.\n",
        "* `pop(clave)`: elimina la clave dada y devuelve su valor.\n",
        "\n",
        "**Ejemplo rápido (diccionario):**"
      ],
      "metadata": {
        "id": "awD-neXdCP67"
      }
    },
    {
      "cell_type": "code",
      "source": [
        "# Diccionario de símbolo -> elemento\n",
        "elementos = {\"H\": \"Hidrógeno\", \"O\": \"Oxígeno\", \"C\": \"Carbono\"}\n",
        "print(elementos.keys())    # dict_keys(['H', 'O', 'C'])\n",
        "print(elementos.values())  # dict_values(['Hidrógeno', 'Oxígeno', 'Carbono'])\n",
        "print(elementos.items())   # dict_items([('H', 'Hidrógeno'), ('O', 'Oxígeno'), ('C', 'Carbono')])\n",
        "print(elementos.get(\"O\"))               # \"Oxígeno\"\n",
        "print(elementos.get(\"N\", \"No encontrado\"))  # \"No encontrado\" (porque \"N\" no está en el dict)\n",
        "# Añadir un nuevo elemento\n",
        "elementos.update({\"N\": \"Nitrógeno\"})\n",
        "print(elementos)           # {'H': 'Hidrógeno', 'O': 'Oxígeno', 'C': 'Carbono', 'N': 'Nitrógeno'}\n",
        "elemento_removido = elementos.pop(\"C\")\n",
        "print(elemento_removido)   # \"Carbono\"\n",
        "print(elementos)           # {'H': 'Hidrógeno', 'O': 'Oxígeno', 'N': 'Nitrógeno'}"
      ],
      "metadata": {
        "colab": {
          "base_uri": "https://localhost:8080/",
          "height": 0
        },
        "id": "IOePCo_sCT8N",
        "outputId": "8e25d4ff-d73c-4d88-fbd6-807763057428"
      },
      "execution_count": 8,
      "outputs": [
        {
          "output_type": "stream",
          "name": "stdout",
          "text": [
            "dict_keys(['H', 'O', 'C'])\n",
            "dict_values(['Hidrógeno', 'Oxígeno', 'Carbono'])\n",
            "dict_items([('H', 'Hidrógeno'), ('O', 'Oxígeno'), ('C', 'Carbono')])\n",
            "Oxígeno\n",
            "No encontrado\n",
            "{'H': 'Hidrógeno', 'O': 'Oxígeno', 'C': 'Carbono', 'N': 'Nitrógeno'}\n",
            "Carbono\n",
            "{'H': 'Hidrógeno', 'O': 'Oxígeno', 'N': 'Nitrógeno'}\n"
          ]
        }
      ]
    },
    {
      "cell_type": "markdown",
      "source": [
        "Aquí trabajamos con un diccionario de elementos. Vemos cómo `keys()`, `values()` e `items()` nos permiten iterar o listar su contenido. Usamos `get` para obtener un valor con seguridad (sin lanzar error si la clave no existe). Luego `update` para añadir un nuevo par y `pop` para remover una entrada.\n",
        "\n",
        "Como puedes ver, **métodos** hay muchos más, pero estos son algunos de los más frecuentes que usarás en proyectos de química computacional al manipular datos.\n",
        "\n",
        "**Ejercicio:** Dada la cadena `compuestos = \"agua, etanol, acetona, benceno\"`, utiliza un método de string para obtener una lista de los compuestos individuales. Luego, aplica un método de lista para ordenar alfabéticamente esa lista de compuestos. Al final, imprime la lista ordenada. *(Pista: primero `split`, luego `sort`.)*\n",
        "\n",
        "<details>\n",
        "<summary>Solución</summary>\n",
        "\n",
        "```python\n",
        "compuestos = \"agua, etanol, acetona, benceno\"\n",
        "lista_compuestos = compuestos.split(\", \")\n",
        "lista_compuestos.sort()\n",
        "print(lista_compuestos)\n",
        "# Salida esperada: ['acetona', 'agua', 'benceno', 'etanol']\n",
        "```\n",
        "\n",
        "</details>"
      ],
      "metadata": {
        "id": "nSUhPGPVCcp4"
      }
    },
    {
      "cell_type": "markdown",
      "source": [
        "## Comprensión de listas"
      ],
      "metadata": {
        "id": "ieP4BFgLCmpE"
      }
    },
    {
      "cell_type": "markdown",
      "source": [
        "La **comprensión de listas** es una sintaxis especial de Python que permite crear nuevas listas de forma concisa y elegante a partir de iterables (como otras listas), opcionalmente filtrando elementos con condiciones. Es muy útil para **transformar** y **filtrar** datos rápidamente sin escribir bucles explícitos.\n",
        "\n",
        "La sintaxis básica es:\n",
        "\n",
        "```python\n",
        "nueva_lista = [ expresión(elemento) for elemento in secuencia if condición ]\n",
        "```\n",
        "\n",
        "Lo que hace es: recorrer cada `elemento` en `secuencia`, aplicar la `expresión` (que típicamente usa el elemento) y añadir el resultado a `nueva_lista`. Si se incluye una `if condición`, solo los elementos que la cumplan se procesan/incluyen.\n",
        "\n",
        "Equivale a escribir un bucle `for` tradicional, pero en una sola línea más compacta. Veamos unos ejemplos sencillos, incluyendo un caso químico:"
      ],
      "metadata": {
        "id": "MiKrfoq1CoGJ"
      }
    },
    {
      "cell_type": "code",
      "source": [
        "# Lista de temperaturas en Celsius\n",
        "celsius = [0, 20, 100]\n",
        "# Convertir a Kelvin usando comprensión de listas (K = °C + 273.15)\n",
        "kelvin = [temp + 273.15 for temp in celsius]\n",
        "print(kelvin)  # [273.15, 293.15, 373.15]\n",
        "\n",
        "# Podemos incluir una condición. Por ejemplo, filtrar elementos pesados:\n",
        "masas_atomicas = [1.008, 4.0026, 15.999, 39.948, 12.01]  # H, He, O, Ar, C\n",
        "# Quedarnos solo con masas mayores a 10\n",
        "masas_mayores_10 = [m for m in masas_atomicas if m > 10]\n",
        "print(masas_mayores_10)  # [15.999, 39.948, 12.01]\n",
        "\n",
        "# Otro ejemplo: obtener longitudes de nombres de compuestos químicos\n",
        "nombres = [\"agua\", \"etanol\", \"acetona\", \"benceno\"]\n",
        "longitudes = [len(nombre) for nombre in nombres]\n",
        "print(longitudes)  # [4, 6, 7, 7]"
      ],
      "metadata": {
        "id": "IVjBTMeZCvnn"
      },
      "execution_count": null,
      "outputs": []
    },
    {
      "cell_type": "markdown",
      "source": [
        "En los ejemplos: convertimos una lista de °C a Kelvin sumando 273.15 a cada elemento; luego filtramos de una lista de masas atómicas solo las que superan 10 uma; y finalmente creamos una lista de longitudes de cada nombre en otra lista de compuestos. Todo esto con comprensiones, evitando tener que escribir varios bucles for y listas auxiliares.\n",
        "\n",
        "Las comprensiones de listas hacen el código más **legible** y a veces más eficiente. También se pueden anidar (comprensión dentro de otra) o usar en otras estructuras como diccionarios y conjuntos, pero eso es más avanzado.\n",
        "\n",
        "**Ejercicio:** Tienes una lista de temperaturas en grados Celsius: `temperaturas_C = [25, 30, 15, 0, -5]`. Utiliza una comprensión de listas para convertir estos valores a **Kelvin** y almacenar el resultado en una lista `temperaturas_K`. Recuerda que K = °C + 273.15. Finalmente, imprime `temperaturas_K`.\n",
        "\n",
        "<details>\n",
        "<summary>Solución</summary>\n",
        "\n",
        "```python\n",
        "temperaturas_C = [25, 30, 15, 0, -5]\n",
        "temperaturas_K = [temp + 273.15 for temp in temperaturas_C]\n",
        "print(temperaturas_K)\n",
        "# Salida esperada: [298.15, 303.15, 288.15, 273.15, 268.15]\n",
        "```\n",
        "\n",
        "</details>"
      ],
      "metadata": {
        "id": "datk30WcC5jt"
      }
    },
    {
      "cell_type": "markdown",
      "source": [
        "## Funciones Integradas"
      ],
      "metadata": {
        "id": "Ej3EpWPPdIOv"
      }
    },
    {
      "cell_type": "markdown",
      "source": [
        "Python proporciona una serie de **funciones integradas** (*built-in*) que podemos usar sin necesidad de importar nada. Estas funciones nos facilitan realizar operaciones comunes de entrada/salida, conversiones de tipos, cálculos matemáticos básicos, etc.\n",
        "\n",
        "Algunas funciones integradas muy útiles incluyen:\n",
        "\n",
        "| **Función**                | **Descripción** (muy resumida)                        | **Ejemplo de uso**                                                 |\n",
        "| -------------------------- | ----------------------------------------------------- | ------------------------------------------------------------------ |\n",
        "| `print(valor, ...)`        | Imprime valores en la consola (salida estándar).      | `print(\"Hola, Python!\")` imprime `Hola, Python!`                   |\n",
        "| `input(prompt)`            | Lee una entrada desde el teclado (como texto).        | `nombre = input(\"¿Tu nombre? \")` (guarda lo ingresado en `nombre`) |\n",
        "| `type(obj)`                | Devuelve el tipo de dato del objeto.                  | `type(3.5)` → devuelve `<class 'float'>`                           |\n",
        "| `len(obj)`                 | Devuelve la longitud de una secuencia.                | `len(\"Python\")` → `6` (caracteres)                                 |\n",
        "| `str(x)`                   | Convierte `x` a cadena de texto (`string`).           | `str(123)` → `\"123\"`                                               |\n",
        "| `int(x)`                   | Convierte `x` a entero (si es posible).               | `int(\"10\")` → `10`                                                 |\n",
        "| `float(x)`                 | Convierte `x` a flotante (decimal).                   | `float(\"3.14\")` → `3.14`                                           |\n",
        "| `bool(x)`                  | Convierte `x` a booleano (`True`/`False`).            | `bool(0)` → `False` (0 se considera False)                         |\n",
        "| `abs(x)`                   | Valor absoluto de `x`.                                | `abs(-8)` → `8`                                                    |\n",
        "| `round(x, n)`              | Redondea `x` a `n` decimales.                         | `round(3.14159, 2)` → `3.14`                                       |\n",
        "| `max(iterable)`            | Máximo de un iterable o de varios valores.            | `max([4,7,1])` → `7`                                               |\n",
        "| `min(iterable)`            | Mínimo de un iterable o de varios valores.            | `min(4,7,1)` → `1`                                                 |\n",
        "| `sum(iterable)`            | Suma los elementos de un iterable (numéricos).        | `sum([5, 10, 4])` → `19`                                           |\n",
        "| `sorted(iterable)`         | Devuelve una **lista** ordenada de los elementos.     | `sorted([3,1,2])` → `[1,2,3]`                                      |\n",
        "| `range(inicio, fin, paso)` | Genera una secuencia de números.                      | `range(0, 5)` → `0,1,2,3,4`                                        |\n",
        "| `list(iterable)`           | Convierte un iterable a lista.                        | `list(\"HEY\")` → `['H','E','Y']`                                    |\n",
        "| `dict(iterable)`           | Crea un diccionario a partir de pares (clave, valor). | `dict([(\"a\",1),(\"b\",2)])` → `{\"a\":1,\"b\":2}`                        |\n",
        "| `set(iterable)`            | Convierte a conjunto (elimina duplicados).            | `set(\"banana\")` → `{'b','a','n'}`                                  |\n",
        "| `zip(*iterables)`          | Fusiona iterables en pares o tuplas.                  | `list(zip([1,2],[“a”,”b”]))` → `[(1,\"a\"),(2,\"b\")]`                 |\n",
        "| `help(obj)`                | Muestra la ayuda/documentación de `obj`.              | `help(print)` (muestra documentación de `print`)                   |\n",
        "\n",
        "*(La lista completa de funciones integradas es amplia; puedes consultarla en la documentación de Python. Estos son solo algunos ejemplos comunes.)*\n",
        "\n",
        "Veamos ahora algunos ejemplos prácticos utilizando funciones integradas mencionadas:\n",
        "\n",
        "#### 1. Entrada y salida de datos con `print()` e `input()`"
      ],
      "metadata": {
        "id": "doDMHn4rjI5Z"
      }
    },
    {
      "cell_type": "code",
      "source": [
        "nombre_compuesto = input(\"¿Cuál es tu compuesto químico favorito? \")\n",
        "print(\"¡El\", nombre_compuesto, \"es realmente interesante!\")"
      ],
      "metadata": {
        "colab": {
          "base_uri": "https://localhost:8080/"
        },
        "id": "oHJ_xHEujUvd",
        "outputId": "2551032a-0235-4a76-9353-c3e61f333e61"
      },
      "execution_count": null,
      "outputs": [
        {
          "output_type": "stream",
          "name": "stdout",
          "text": [
            "¿Cuál es tu compuesto químico favorito? Itrio\n",
            "¡El Itrio es realmente interesante!\n"
          ]
        }
      ]
    },
    {
      "cell_type": "markdown",
      "source": [
        "*Ejemplo de ejecución:* Si el usuario ingresa **Agua**, la salida podría ser: `¡El Agua es realmente interesante!`\n",
        "\n"
      ],
      "metadata": {
        "id": "V63djeIRjdok"
      }
    },
    {
      "cell_type": "markdown",
      "source": [
        "#### 2. Conversión de tipos con `int()`, `float()`, `str()`"
      ],
      "metadata": {
        "id": "O3bQQLVzjhrW"
      }
    },
    {
      "cell_type": "code",
      "source": [
        "num_str = \"10\"         # este es un str que representa un número\n",
        "print(int(num_str) + 5)   # convierte a int y suma 5 -> imprime 15\n",
        "print(float(num_str) * 1.5) # convierte a float y multiplica -> imprime 15.0\n",
        "print(str(3.1416) + \" es pi\")  # convierte número a str y concatena -> imprime \"3.1416 es pi\""
      ],
      "metadata": {
        "colab": {
          "base_uri": "https://localhost:8080/"
        },
        "id": "JZp3id0ZkrxW",
        "outputId": "3938ec1d-f689-4741-86ad-6d31b5813941"
      },
      "execution_count": null,
      "outputs": [
        {
          "output_type": "stream",
          "name": "stdout",
          "text": [
            "15\n",
            "15.0\n",
            "3.1416 es pi\n"
          ]
        }
      ]
    },
    {
      "cell_type": "markdown",
      "source": [
        "#### 3. Uso de `max()`, `min()`, `sum()` en listas"
      ],
      "metadata": {
        "id": "mIlLaepbkxUZ"
      }
    },
    {
      "cell_type": "code",
      "source": [
        "numeros = [4, 7, 2, 9]\n",
        "print(\"Valor máximo:\", max(numeros))  # 9\n",
        "print(\"Valor mínimo:\", min(numeros))  # 2\n",
        "print(\"Suma total:\", sum(numeros))    # 22"
      ],
      "metadata": {
        "colab": {
          "base_uri": "https://localhost:8080/"
        },
        "id": "yIXQ-WMgk0Pr",
        "outputId": "c8a7403b-d116-4852-d332-48fa5dfa0a43"
      },
      "execution_count": null,
      "outputs": [
        {
          "output_type": "stream",
          "name": "stdout",
          "text": [
            "Valor máximo: 9\n",
            "Valor mínimo: 2\n",
            "Suma total: 22\n"
          ]
        }
      ]
    },
    {
      "cell_type": "markdown",
      "source": [
        "#### 4. Uso de `zip()` para combinar iterables"
      ],
      "metadata": {
        "id": "k7ojd7Vx0PQy"
      }
    },
    {
      "cell_type": "code",
      "source": [
        "nombres = [\"Ana\", \"Luis\", \"Marta\"]\n",
        "edades = [23, 30, 34]\n",
        "combinado = list(zip(nombres, edades))\n",
        "print(combinado)\n",
        "# Salida: [('Ana', 23), ('Luis', 30), ('Marta', 34)]"
      ],
      "metadata": {
        "id": "Am-AIIvh0SUh"
      },
      "execution_count": null,
      "outputs": []
    },
    {
      "cell_type": "markdown",
      "source": [
        "#### 5. Uso de `range()` para generar secuencias numéricas"
      ],
      "metadata": {
        "id": "dCtLuF540ZLF"
      }
    },
    {
      "cell_type": "code",
      "source": [
        "for i in range(1, 10, 2):\n",
        "  print(i, end=\" \")\n",
        "# Salida: 1 3 5 7 9"
      ],
      "metadata": {
        "colab": {
          "base_uri": "https://localhost:8080/",
          "height": 0
        },
        "id": "Zju2rjkl0aoL",
        "outputId": "23e2c128-3ef9-4f95-c4e9-e8d0d73c3d45"
      },
      "execution_count": 2,
      "outputs": [
        {
          "output_type": "stream",
          "name": "stdout",
          "text": [
            "1 3 5 7 9 "
          ]
        }
      ]
    },
    {
      "cell_type": "markdown",
      "source": [
        "*(El parámetro `end=\" \"` en `print` evita el salto de línea y separa con espacio.)*\n"
      ],
      "metadata": {
        "id": "FIiKVIQVlIQS"
      }
    },
    {
      "cell_type": "markdown",
      "source": [
        "## Manejo de errores y depuración"
      ],
      "metadata": {
        "id": "so4FoISGdNBQ"
      }
    },
    {
      "cell_type": "markdown",
      "source": [
        "![Shoot Computer GIF](https://media1.tenor.com/m/YUT6OekjwxQAAAAd/shoot-computer.gif)"
      ],
      "metadata": {
        "id": "oNMyNWHZUW45"
      }
    },
    {
      "cell_type": "markdown",
      "source": [
        "Al comenzar a programar es normal encontrarse con **errores** en el código. En general, los errores en programación se clasifican en tres tipos principales:\n",
        "\n",
        "* **Errores sintácticos:** Son errores en la *escritura* del código, es decir, violaciones a las reglas de sintaxis del lenguaje. Por ejemplo, en español una oración debe terminar con un punto; análogamente en Python, si abres un paréntesis debes cerrarlo, o si comienzas un string con comillas debes cerrarlo. Si hay un error de sintaxis, el programa ni siquiera empieza a ejecutarse.\n",
        "  *Ejemplo:*"
      ],
      "metadata": {
        "id": "iDB02leGlZn1"
      }
    },
    {
      "cell_type": "code",
      "source": [
        "  print(\"Hola Mundo\"   # Falta cerrar el paréntesis"
      ],
      "metadata": {
        "colab": {
          "base_uri": "https://localhost:8080/",
          "height": 106
        },
        "id": "tLdU6qCD0sim",
        "outputId": "62f7793d-b423-4948-cdcd-33332d6c2352"
      },
      "execution_count": 10,
      "outputs": [
        {
          "output_type": "error",
          "ename": "SyntaxError",
          "evalue": "incomplete input (<ipython-input-10-0fb5aade6f37>, line 1)",
          "traceback": [
            "\u001b[0;36m  File \u001b[0;32m\"<ipython-input-10-0fb5aade6f37>\"\u001b[0;36m, line \u001b[0;32m1\u001b[0m\n\u001b[0;31m    print(\"Hola Mundo\"   # Falta cerrar el paréntesis\u001b[0m\n\u001b[0m                                                     ^\u001b[0m\n\u001b[0;31mSyntaxError\u001b[0m\u001b[0;31m:\u001b[0m incomplete input\n"
          ]
        }
      ]
    },
    {
      "cell_type": "markdown",
      "source": [
        "Al ejecutar lo anterior, Python lanzará un error de sintaxis, típicamente indicando algo como **`SyntaxError: incomplete input`** porque no encontró el paréntesis de cierre. ¡Debemos ser cuidadosos con la sintaxis!\n",
        "\n",
        "* **Errores en tiempo de ejecución (excepciones):** Ocurren **mientras el programa se está ejecutando** y causan que se detenga abruptamente a menos que sean manejados. Las excepciones aparecen por situaciones “excepcionales” o inesperadas, como intentar dividir por cero, acceder a un índice fuera de rango en una lista, convertir una cadena no numérica a int, etc. Python nos avisará con un mensaje de error indicando el tipo de excepción (por ejemplo `ZeroDivisionError`, `IndexError`, `ValueError`, etc.) y la línea donde ocurrió.\n",
        "\n",
        "* **Errores lógicos (semánticos):** El programa **corre hasta el final**, pero el resultado obtenido es incorrecto o diferente al esperado. Estos errores no generan mensajes de error, porque sintácticamente todo es válido para Python; sin embargo, la *lógica* de nuestro código tiene algún fallo. Por ejemplo, si calculas el promedio de notas sumando y *multiplicando* por 2 en vez de dividir por 2, el programa no dará error pero el resultado será erróneo. Los errores lógicos son a veces los más difíciles de detectar, porque requieren revisar cuidadosamente la intención del código y su comportamiento.\n",
        "\n",
        "**¿Qué es la depuración (*debugging*)?**\n",
        "La *depuración* es el proceso de revisar y probar tu código paso a paso para identificar y corregir errores (de cualquier tipo mencionado arriba). Algunas técnicas de depuración incluyen:\n",
        "\n",
        "* **Lectura minuciosa del código:** suena obvio, pero muchas veces encontramos el problema revisando línea por línea y pensando \"¿esta línea hace realmente lo que creo que hace?\".\n",
        "* **Imprimir valores intermedios (`print`):** insertar `print()` de variables en puntos clave del código para ver qué valores tienen en tiempo de ejecución y detectar dónde algo empieza a ir mal.\n",
        "* **Uso de un depurador (debugger):** herramientas que permiten ejecutar el código en modo “paso a paso”, observando el estado de las variables en cada paso. (En Colab no hay un depurador visual integrado, pero en otros entornos como VSCode o PyCharm sí lo hay).\n",
        "* **Escribir casos de prueba simples:** probar tu programa con entradas conocidas y verificar si la salida coincide con lo esperado. Si no, rastrear en qué punto del cálculo se desvía el resultado.\n",
        "\n",
        "Con la práctica, irás desarrollando un “olfato” para encontrar errores. ¡No te preocupes! Todos los programadores, incluso los expertos, se encuentran con errores; la clave está en saber interpretarlos y corregirlos con paciencia.\n",
        "\n",
        "Para cerrar esta sección, veamos un ejemplo típico de error y cómo Python nos informa:"
      ],
      "metadata": {
        "id": "ZN9lgPAxliW3"
      }
    },
    {
      "cell_type": "code",
      "source": [
        "# Ejemplo de error de sintaxis:\n",
        "print(\"Hola Mundo  # falta cerrar paréntesis y comillas"
      ],
      "metadata": {
        "colab": {
          "base_uri": "https://localhost:8080/",
          "height": 106
        },
        "id": "7le8nACx02MZ",
        "outputId": "7f68ed41-fa0d-41d4-ebb2-8cd6ebe603d6"
      },
      "execution_count": 11,
      "outputs": [
        {
          "output_type": "error",
          "ename": "SyntaxError",
          "evalue": "incomplete input (<ipython-input-11-573b5821a4eb>, line 2)",
          "traceback": [
            "\u001b[0;36m  File \u001b[0;32m\"<ipython-input-11-573b5821a4eb>\"\u001b[0;36m, line \u001b[0;32m2\u001b[0m\n\u001b[0;31m    print(\"Hola Mundo\"  # falta cerrar paréntesis y comillas\u001b[0m\n\u001b[0m                                                            ^\u001b[0m\n\u001b[0;31mSyntaxError\u001b[0m\u001b[0;31m:\u001b[0m incomplete input\n"
          ]
        }
      ]
    },
    {
      "cell_type": "markdown",
      "source": [
        "Si ejecutas la celda anterior, verás un **`SyntaxError`** que señalará el final de la línea como inesperado. Ahora corrígelo agregando la comilla y paréntesis faltantes y ejecútalo de nuevo para ver el resultado correcto."
      ],
      "metadata": {
        "id": "48hss61E06nc"
      }
    },
    {
      "cell_type": "code",
      "source": [
        "# Corrección:\n",
        "print(\"Hola Mundo\")  # Ahora sí, sintaxis correcta"
      ],
      "metadata": {
        "colab": {
          "base_uri": "https://localhost:8080/"
        },
        "id": "2I9vjQdX09YA",
        "outputId": "fc5b957b-c97a-47d0-8ec0-4e42db650d52"
      },
      "execution_count": 12,
      "outputs": [
        {
          "output_type": "stream",
          "name": "stdout",
          "text": [
            "Hola Mundo\n"
          ]
        }
      ]
    },
    {
      "cell_type": "markdown",
      "source": [
        "# Ejemplos de Aplicación"
      ],
      "metadata": {
        "id": "eyIOLd4DdRSO"
      }
    },
    {
      "cell_type": "markdown",
      "source": [
        "A continuación, vamos a ver un par de ejemplos más complejos de lo que se puede lograr con Python aplicado a problemas científicos. **No te preocupes si no entiendes cada línea de código por completo**; estos ejemplos están aquí para inspirarte y mostrarte el potencial, más que para examinarlos en detalle. A medida que avances en el curso, conceptos como usar librerías externas, graficación o cálculo numérico te resultarán más familiares.\n"
      ],
      "metadata": {
        "id": "dzot5Z7RlwEE"
      }
    },
    {
      "cell_type": "markdown",
      "source": [
        "## Sumas de Riemman (integración numérica)"
      ],
      "metadata": {
        "id": "IFcL_oDMdW54"
      }
    },
    {
      "cell_type": "markdown",
      "source": [
        "En cálculo, las **sumas de Riemann** son un método para aproximar el valor de una integral definida. Aquí demostraremos cómo Python puede ayudarnos a visualizar estas sumas para aproximar el área bajo la curva de una función. Esto es útil en química física, por ejemplo, al calcular áreas bajo picos en espectros, integrar ecuaciones de tasa, etc.\n",
        "\n",
        "En este ejemplo usaremos librerías científicas Python como **NumPy**, **Sympy** y **Matplotlib** para calcular y graficar las sumas de Riemann de la función \\\\(f(x) = x^2\\\\) en el intervalo \\[0, 2]."
      ],
      "metadata": {
        "id": "gVsiHKVpl0_x"
      }
    },
    {
      "cell_type": "code",
      "source": [
        "# @title Gráfico ejemplo sumas de Riemman\n",
        "\n",
        "# Ejemplo: Aproximación de integral mediante sumas de Riemann\n",
        "import numpy as np\n",
        "import sympy as sp\n",
        "import matplotlib.pyplot as plt\n",
        "\n",
        "# 1. Definir la función simbólicamente y el intervalo [a, b]\n",
        "x = sp.symbols('x')\n",
        "f_expr = x**2                             # función simbólica f(x) = x^2\n",
        "f = sp.lambdify(x, f_expr, 'numpy')       # convertir función simbólica a función numérica\n",
        "a, b = 0, 2                               # intervalo de integración de 0 a 2\n",
        "n = 10                                    # número de subintervalos para las sumas de Riemann\n",
        "\n",
        "# 2. Calcular puntos relevantes y el ancho de cada subintervalo\n",
        "x_vals = np.linspace(a, b, 500)           # puntos para graficar la función suavemente\n",
        "delta_x = (b - a) / n\n",
        "x_left = np.linspace(a, b - delta_x, n)   # puntos de la partición (izquierda)\n",
        "x_right = np.linspace(a + delta_x, b, n)  # puntos de la partición (derecha)\n",
        "x_mid = np.linspace(a + delta_x/2, b - delta_x/2, n)  # puntos medios de cada subintervalo\n",
        "\n",
        "# 3. Calcular el valor de la función en esos puntos\n",
        "y_left = f(x_left)\n",
        "y_right = f(x_right)\n",
        "y_mid = f(x_mid)\n",
        "\n",
        "# 4. Graficar la función y las áreas de las sumas de Riemann\n",
        "plt.figure(figsize=(8, 5))\n",
        "\n",
        "# Graficar la función continua f(x)\n",
        "plt.plot(x_vals, f(x_vals), label='f(x) = x^2', color='blue')\n",
        "\n",
        "# Graficar los rectángulos de la suma de Riemann por la izquierda (en rojo)\n",
        "for xi, yi in zip(x_left, y_left):\n",
        "    plt.bar(xi, yi, width=delta_x, align='edge', color='red', alpha=0.4, label='Suma Izq.' if xi == x_left[0] else \"\")\n",
        "\n",
        "# Graficar los rectángulos de la suma por la derecha (en verde)\n",
        "for xi, yi in zip(x_right, y_right):\n",
        "    plt.bar(xi, yi, width=-delta_x, align='edge', color='green', alpha=0.4, label='Suma Der.' if xi == x_right[0] else \"\")\n",
        "\n",
        "# Graficar los rectángulos de la suma por el punto medio (en naranja)\n",
        "for xi, yi in zip(x_mid, y_mid):\n",
        "    plt.bar(xi, yi, width=delta_x, align='center', color='orange', alpha=0.4, label='Suma Media' if xi == x_mid[0] else \"\")\n",
        "\n",
        "# Líneas y leyenda\n",
        "plt.title('Sumas de Riemann para f(x) = x^2 en [0,2] (n=10)')\n",
        "plt.xlabel('x')\n",
        "plt.ylabel('f(x)')\n",
        "plt.axhline(0, color='black', linewidth=0.8, linestyle='--')\n",
        "plt.legend()\n",
        "plt.grid(alpha=0.3)\n",
        "plt.show()"
      ],
      "metadata": {
        "colab": {
          "base_uri": "https://localhost:8080/",
          "height": 487
        },
        "id": "8T70lYSRl45A",
        "outputId": "37442195-ca36-4c5a-cb2c-b0a40afbf6af",
        "cellView": "form"
      },
      "execution_count": null,
      "outputs": [
        {
          "output_type": "display_data",
          "data": {
            "text/plain": [
              "<Figure size 800x500 with 1 Axes>"
            ],
            "image/png": "[encoded data removed]"
          },
          "metadata": {}
        }
      ]
    },
    {
      "cell_type": "markdown",
      "source": [
        "Ejecuta la celda anterior. Deberías ver la parábola \\\\(f(x) = x^2\\\\) y tres conjuntos de rectángulos que aproximan el área bajo la curva: en rojo usando el valor izquierdo de cada subintervalo, en verde usando el derecho, y en naranja usando el punto medio. A medida que aumentes `n` (el número de rectángulos), estas aproximaciones convergerán al valor real de la integral \\\\(\\int\\_0^2 x^2 dx = \\frac{8}{3} \\approx 2.667\\\\)."
      ],
      "metadata": {
        "id": "ng0Zi12ul8Y-"
      }
    },
    {
      "cell_type": "markdown",
      "source": [
        "## Vizualizador de moléculas 2D"
      ],
      "metadata": {
        "id": "aCB5mfwYdc3u"
      }
    },
    {
      "cell_type": "markdown",
      "source": [
        "Ahora veamos un ejemplo directamente relacionado con química: visualizar moléculas a partir de sus **códigos SMILES**. Utilizaremos la librería **RDKit**, especializada en química computacional, para dibujar la estructura 2D de una molécula dado su identificador SMILES (una forma de notación lineal para moléculas).\n",
        "\n",
        "**Paso 1: Instalación de la librería RDKit** (solo es necesario si no está ya instalada en el entorno Colab):"
      ],
      "metadata": {
        "id": "NziBqnPymAky"
      }
    },
    {
      "cell_type": "code",
      "source": [
        "!pip install rdkit"
      ],
      "metadata": {
        "colab": {
          "base_uri": "https://localhost:8080/"
        },
        "id": "meA_CKGBmDZv",
        "outputId": "24b96264-f3fd-4e99-8f00-3625470bc9ae"
      },
      "execution_count": null,
      "outputs": [
        {
          "output_type": "stream",
          "name": "stdout",
          "text": [
            "Collecting rdkit\n",
            "  Downloading rdkit-2025.3.2-cp311-cp311-manylinux_2_28_x86_64.whl.metadata (4.0 kB)\n",
            "Requirement already satisfied: numpy in /usr/local/lib/python3.11/dist-packages (from rdkit) (2.0.2)\n",
            "Requirement already satisfied: Pillow in /usr/local/lib/python3.11/dist-packages (from rdkit) (11.2.1)\n",
            "Downloading rdkit-2025.3.2-cp311-cp311-manylinux_2_28_x86_64.whl (35.2 MB)\n",
            "\u001b[2K   \u001b[90m━━━━━━━━━━━━━━━━━━━━━━━━━━━━━━━━━━━━━━━━\u001b[0m \u001b[32m35.2/35.2 MB\u001b[0m \u001b[31m33.2 MB/s\u001b[0m eta \u001b[36m0:00:00\u001b[0m\n",
            "\u001b[?25hInstalling collected packages: rdkit\n",
            "Successfully installed rdkit-2025.3.2\n"
          ]
        }
      ]
    },
    {
      "cell_type": "markdown",
      "source": [
        "**Importar las funciones necesarias de RDKit**"
      ],
      "metadata": {
        "id": "V8RKrGJSxvGv"
      }
    },
    {
      "cell_type": "code",
      "source": [
        "from rdkit import Chem\n",
        "from rdkit.Chem.Draw import IPythonConsole\n",
        "from rdkit.Chem import Draw\n",
        "\n",
        "# Configurar RDKit para que los dibujos se muestren como SVG (gráficos vectoriales bonitos)\n",
        "IPythonConsole.ipython_useSVG = True"
      ],
      "metadata": {
        "id": "XMj50ab2mLE_"
      },
      "execution_count": null,
      "outputs": []
    },
    {
      "cell_type": "markdown",
      "source": [
        "**Definir una función auxiliar (opcional)** para mostrar índices de átomos en la molécula, de modo que cada átomo tenga un número marcado (útil para identificar posiciones):"
      ],
      "metadata": {
        "id": "V1Q7LErfmNkq"
      }
    },
    {
      "cell_type": "code",
      "source": [
        "def mol_with_atom_index(mol):\n",
        "    for atom in mol.GetAtoms():\n",
        "        atom.SetAtomMapNum(atom.GetIdx())\n",
        "    return mol"
      ],
      "metadata": {
        "id": "4hGGyogjmPjR"
      },
      "execution_count": null,
      "outputs": []
    },
    {
      "cell_type": "markdown",
      "source": [
        "**Generar la molécula a partir de un SMILES y visualizarla**\n",
        "\n",
        "Vamos a visualizar, por ejemplo, la molécula de **serotonina** cuyo SMILES es `\"C1=CC2=C(C=C1O)C(=CN2)CCN\"` (si no te dice mucho, no te preocupes, por eso la vamos a dibujar):"
      ],
      "metadata": {
        "id": "en9KCLufmkTh"
      }
    },
    {
      "cell_type": "code",
      "source": [
        "smiles = \"C1=CC2=C(C=C1O)C(=CN2)CCN\"  # Serotonina\n",
        "mol = Chem.MolFromSmiles(smiles)\n",
        "mol = mol_with_atom_index(mol)       # agregar índices a los átomos\n",
        "mol  # en Colab, mostrar un objeto mol renderiza la imagen de la molécula"
      ],
      "metadata": {
        "colab": {
          "base_uri": "https://localhost:8080/",
          "height": 171
        },
        "id": "2OjSYzzMmpF4",
        "outputId": "ca8f9fb0-f94c-467a-f4e2-3c0951fd236f"
      },
      "execution_count": null,
      "outputs": [
        {
          "output_type": "execute_result",
          "data": {
            "text/plain": [
              "<rdkit.Chem.rdchem.Mol at 0x7ca811d67140>"
            ],
            "text/html": [
              "<?xml version='1.0' encoding='iso-8859-1'?>\n",
              "<svg version='1.1' baseProfile='full'\n",
              "              xmlns='http://www.w3.org/2000/svg'\n",
              "                      xmlns:rdkit='http://www.rdkit.org/xml'\n",
              "                      xmlns:xlink='http://www.w3.org/1999/xlink'\n",
              "                  xml:space='preserve'\n",
              "width='450px' height='150px' viewBox='0 0 450 150'>\n",
              "<!-- END OF HEADER -->\n",
              "<rect style='opacity:1.0;fill:#FFFFFF;stroke:none' width='450.0' height='150.0' x='0.0' y='0.0'> </rect>\n",
              "<path class='bond-0 atom-0 atom-1' d='M 324.5,73.5 L 309.5,96.8' style='fill:none;fill-rule:evenodd;stroke:#000000;stroke-width:2.0px;stroke-linecap:butt;stroke-linejoin:miter;stroke-opacity:1' />\n",
              "<path class='bond-0 atom-0 atom-1' d='M 318.4,73.2 L 305.0,94.0' style='fill:none;fill-rule:evenodd;stroke:#000000;stroke-width:2.0px;stroke-linecap:butt;stroke-linejoin:miter;stroke-opacity:1' />\n",
              "<path class='bond-1 atom-1 atom-2' d='M 300.5,102.8 L 286.1,102.1' style='fill:none;fill-rule:evenodd;stroke:#000000;stroke-width:2.0px;stroke-linecap:butt;stroke-linejoin:miter;stroke-opacity:1' />\n",
              "<path class='bond-2 atom-2 atom-3' d='M 267.1,95.1 L 257.5,76.3' style='fill:none;fill-rule:evenodd;stroke:#000000;stroke-width:2.0px;stroke-linecap:butt;stroke-linejoin:miter;stroke-opacity:1' />\n",
              "<path class='bond-2 atom-2 atom-3' d='M 271.8,92.7 L 262.2,73.9' style='fill:none;fill-rule:evenodd;stroke:#000000;stroke-width:2.0px;stroke-linecap:butt;stroke-linejoin:miter;stroke-opacity:1' />\n",
              "<path class='bond-3 atom-3 atom-4' d='M 258.2,63.8 L 268.2,48.2' style='fill:none;fill-rule:evenodd;stroke:#000000;stroke-width:2.0px;stroke-linecap:butt;stroke-linejoin:miter;stroke-opacity:1' />\n",
              "<path class='bond-4 atom-4 atom-5' d='M 278.3,40.7 L 298.0,41.6' style='fill:none;fill-rule:evenodd;stroke:#000000;stroke-width:2.0px;stroke-linecap:butt;stroke-linejoin:miter;stroke-opacity:1' />\n",
              "<path class='bond-4 atom-4 atom-5' d='M 278.0,45.9 L 297.8,46.9' style='fill:none;fill-rule:evenodd;stroke:#000000;stroke-width:2.0px;stroke-linecap:butt;stroke-linejoin:miter;stroke-opacity:1' />\n",
              "<path class='bond-5 atom-5 atom-6' d='M 312.4,36.0 L 317.9,27.5' style='fill:none;fill-rule:evenodd;stroke:#000000;stroke-width:2.0px;stroke-linecap:butt;stroke-linejoin:miter;stroke-opacity:1' />\n",
              "<path class='bond-5 atom-5 atom-6' d='M 317.9,27.5 L 323.4,18.9' style='fill:none;fill-rule:evenodd;stroke:#FF0000;stroke-width:2.0px;stroke-linecap:butt;stroke-linejoin:miter;stroke-opacity:1' />\n",
              "<path class='bond-6 atom-3 atom-7' d='M 243.8,71.7 L 223.9,74.9' style='fill:none;fill-rule:evenodd;stroke:#000000;stroke-width:2.0px;stroke-linecap:butt;stroke-linejoin:miter;stroke-opacity:1' />\n",
              "<path class='bond-7 atom-7 atom-8' d='M 218.5,81.8 L 215.0,104.2' style='fill:none;fill-rule:evenodd;stroke:#000000;stroke-width:2.0px;stroke-linecap:butt;stroke-linejoin:miter;stroke-opacity:1' />\n",
              "<path class='bond-7 atom-7 atom-8' d='M 223.7,82.6 L 220.2,105.0' style='fill:none;fill-rule:evenodd;stroke:#000000;stroke-width:2.0px;stroke-linecap:butt;stroke-linejoin:miter;stroke-opacity:1' />\n",
              "<path class='bond-8 atom-8 atom-9' d='M 218.7,112.8 L 226.7,116.8' style='fill:none;fill-rule:evenodd;stroke:#000000;stroke-width:2.0px;stroke-linecap:butt;stroke-linejoin:miter;stroke-opacity:1' />\n",
              "<path class='bond-8 atom-8 atom-9' d='M 226.7,116.8 L 234.7,120.9' style='fill:none;fill-rule:evenodd;stroke:#0000FF;stroke-width:2.0px;stroke-linecap:butt;stroke-linejoin:miter;stroke-opacity:1' />\n",
              "<path class='bond-9 atom-7 atom-10' d='M 213.2,69.4 L 200.8,57.1' style='fill:none;fill-rule:evenodd;stroke:#000000;stroke-width:2.0px;stroke-linecap:butt;stroke-linejoin:miter;stroke-opacity:1' />\n",
              "<path class='bond-10 atom-10 atom-11' d='M 180.2,54.7 L 174.1,56.3' style='fill:none;fill-rule:evenodd;stroke:#000000;stroke-width:2.0px;stroke-linecap:butt;stroke-linejoin:miter;stroke-opacity:1' />\n",
              "<path class='bond-11 atom-11 atom-12' d='M 154.2,53.8 L 147.1,46.8' style='fill:none;fill-rule:evenodd;stroke:#000000;stroke-width:2.0px;stroke-linecap:butt;stroke-linejoin:miter;stroke-opacity:1' />\n",
              "<path class='bond-11 atom-11 atom-12' d='M 147.1,46.8 L 140.0,39.7' style='fill:none;fill-rule:evenodd;stroke:#0000FF;stroke-width:2.0px;stroke-linecap:butt;stroke-linejoin:miter;stroke-opacity:1' />\n",
              "<path class='bond-12 atom-5 atom-0' d='M 311.7,48.5 L 324.5,73.5' style='fill:none;fill-rule:evenodd;stroke:#000000;stroke-width:2.0px;stroke-linecap:butt;stroke-linejoin:miter;stroke-opacity:1' />\n",
              "<path class='bond-13 atom-9 atom-2' d='M 251.6,120.1 L 258.5,113.2' style='fill:none;fill-rule:evenodd;stroke:#0000FF;stroke-width:2.0px;stroke-linecap:butt;stroke-linejoin:miter;stroke-opacity:1' />\n",
              "<path class='bond-13 atom-9 atom-2' d='M 258.5,113.2 L 265.3,106.4' style='fill:none;fill-rule:evenodd;stroke:#000000;stroke-width:2.0px;stroke-linecap:butt;stroke-linejoin:miter;stroke-opacity:1' />\n",
              "<path d='M 323.8,74.6 L 324.5,73.5 L 323.9,72.2' style='fill:none;stroke:#000000;stroke-width:2.0px;stroke-linecap:butt;stroke-linejoin:miter;stroke-opacity:1;' />\n",
              "<path class='atom-1' d='M 301.6 103.1\n",
              "Q 301.6 100.6, 302.8 99.3\n",
              "Q 303.9 98.0, 306.2 98.0\n",
              "Q 308.2 98.0, 309.3 99.5\n",
              "L 308.4 100.2\n",
              "Q 307.6 99.2, 306.2 99.2\n",
              "Q 304.6 99.2, 303.8 100.2\n",
              "Q 303.1 101.2, 303.1 103.1\n",
              "Q 303.1 105.1, 303.9 106.1\n",
              "Q 304.7 107.1, 306.3 107.1\n",
              "Q 307.4 107.1, 308.7 106.4\n",
              "L 309.1 107.5\n",
              "Q 308.6 107.8, 307.8 108.0\n",
              "Q 307.0 108.2, 306.1 108.2\n",
              "Q 303.9 108.2, 302.8 106.9\n",
              "Q 301.6 105.6, 301.6 103.1\n",
              "' fill='#000000'/>\n",
              "<path class='atom-1' d='M 310.4 106.4\n",
              "L 311.8 106.4\n",
              "L 311.8 107.8\n",
              "L 310.4 107.8\n",
              "L 310.4 106.4\n",
              "M 310.4 101.6\n",
              "L 311.8 101.6\n",
              "L 311.8 103.0\n",
              "L 310.4 103.0\n",
              "L 310.4 101.6\n",
              "' fill='#000000'/>\n",
              "<path class='atom-1' d='M 313.9 107.0\n",
              "L 316.1 107.0\n",
              "L 316.1 99.5\n",
              "L 313.7 100.3\n",
              "L 313.3 99.4\n",
              "L 316.4 98.1\n",
              "L 317.4 98.2\n",
              "L 317.4 107.0\n",
              "L 319.4 107.0\n",
              "L 319.4 108.1\n",
              "L 313.9 108.1\n",
              "L 313.9 107.0\n",
              "' fill='#000000'/>\n",
              "<path class='atom-2' d='M 266.5 101.4\n",
              "Q 266.5 98.9, 267.6 97.6\n",
              "Q 268.8 96.3, 271.0 96.3\n",
              "Q 273.0 96.3, 274.1 97.7\n",
              "L 273.2 98.5\n",
              "Q 272.4 97.4, 271.0 97.4\n",
              "Q 269.5 97.4, 268.7 98.4\n",
              "Q 267.9 99.4, 267.9 101.4\n",
              "Q 267.9 103.3, 268.7 104.3\n",
              "Q 269.5 105.4, 271.1 105.4\n",
              "Q 272.2 105.4, 273.5 104.7\n",
              "L 273.9 105.8\n",
              "Q 273.4 106.1, 272.6 106.3\n",
              "Q 271.8 106.5, 270.9 106.5\n",
              "Q 268.8 106.5, 267.6 105.2\n",
              "Q 266.5 103.8, 266.5 101.4\n",
              "' fill='#000000'/>\n",
              "<path class='atom-2' d='M 275.2 104.7\n",
              "L 276.6 104.7\n",
              "L 276.6 106.1\n",
              "L 275.2 106.1\n",
              "L 275.2 104.7\n",
              "M 275.2 99.9\n",
              "L 276.6 99.9\n",
              "L 276.6 101.3\n",
              "L 275.2 101.3\n",
              "L 275.2 99.9\n",
              "' fill='#000000'/>\n",
              "<path class='atom-2' d='M 278.3 98.3\n",
              "Q 278.6 97.3, 279.5 96.8\n",
              "Q 280.4 96.3, 281.6 96.3\n",
              "Q 283.1 96.3, 283.9 97.1\n",
              "Q 284.8 97.9, 284.8 99.4\n",
              "Q 284.8 100.8, 283.7 102.2\n",
              "Q 282.6 103.6, 280.3 105.2\n",
              "L 284.9 105.2\n",
              "L 284.9 106.4\n",
              "L 278.2 106.4\n",
              "L 278.2 105.4\n",
              "Q 280.1 104.1, 281.2 103.1\n",
              "Q 282.3 102.1, 282.8 101.2\n",
              "Q 283.4 100.3, 283.4 99.4\n",
              "Q 283.4 98.5, 282.9 97.9\n",
              "Q 282.4 97.4, 281.6 97.4\n",
              "Q 280.8 97.4, 280.2 97.7\n",
              "Q 279.7 98.1, 279.3 98.8\n",
              "L 278.3 98.3\n",
              "' fill='#000000'/>\n",
              "<path class='atom-3' d='M 245.0 70.0\n",
              "Q 245.0 67.6, 246.1 66.3\n",
              "Q 247.3 65.0, 249.5 65.0\n",
              "Q 251.6 65.0, 252.7 66.4\n",
              "L 251.7 67.2\n",
              "Q 250.9 66.1, 249.5 66.1\n",
              "Q 248.0 66.1, 247.2 67.1\n",
              "Q 246.4 68.1, 246.4 70.0\n",
              "Q 246.4 72.0, 247.2 73.0\n",
              "Q 248.1 74.0, 249.7 74.0\n",
              "Q 250.8 74.0, 252.0 73.4\n",
              "L 252.4 74.4\n",
              "Q 251.9 74.8, 251.1 75.0\n",
              "Q 250.3 75.2, 249.5 75.2\n",
              "Q 247.3 75.2, 246.1 73.8\n",
              "Q 245.0 72.5, 245.0 70.0\n",
              "' fill='#000000'/>\n",
              "<path class='atom-3' d='M 253.7 73.4\n",
              "L 255.2 73.4\n",
              "L 255.2 74.8\n",
              "L 253.7 74.8\n",
              "L 253.7 73.4\n",
              "M 253.7 68.6\n",
              "L 255.2 68.6\n",
              "L 255.2 70.0\n",
              "L 253.7 70.0\n",
              "L 253.7 68.6\n",
              "' fill='#000000'/>\n",
              "<path class='atom-3' d='M 261.5 69.8\n",
              "Q 262.5 70.1, 263.0 70.7\n",
              "Q 263.4 71.3, 263.4 72.3\n",
              "Q 263.4 73.2, 263.0 73.8\n",
              "Q 262.6 74.5, 261.8 74.8\n",
              "Q 261.0 75.2, 260.0 75.2\n",
              "Q 259.0 75.2, 258.2 74.8\n",
              "Q 257.4 74.4, 256.7 73.7\n",
              "L 257.5 72.9\n",
              "Q 258.2 73.5, 258.7 73.8\n",
              "Q 259.2 74.1, 260.0 74.1\n",
              "Q 260.9 74.1, 261.5 73.6\n",
              "Q 262.0 73.1, 262.0 72.3\n",
              "Q 262.0 71.3, 261.5 70.8\n",
              "Q 260.9 70.4, 259.7 70.4\n",
              "L 259.0 70.4\n",
              "L 259.0 69.4\n",
              "L 259.6 69.4\n",
              "Q 260.7 69.3, 261.2 68.9\n",
              "Q 261.8 68.4, 261.8 67.5\n",
              "Q 261.8 66.9, 261.3 66.5\n",
              "Q 260.9 66.1, 260.0 66.1\n",
              "Q 259.2 66.1, 258.7 66.4\n",
              "Q 258.2 66.7, 257.8 67.4\n",
              "L 256.8 66.9\n",
              "Q 257.2 66.1, 258.0 65.5\n",
              "Q 258.9 65.0, 260.0 65.0\n",
              "Q 261.5 65.0, 262.4 65.7\n",
              "Q 263.2 66.3, 263.2 67.5\n",
              "Q 263.2 68.3, 262.8 68.9\n",
              "Q 262.4 69.5, 261.5 69.8\n",
              "' fill='#000000'/>\n",
              "<path class='atom-4' d='M 257.6 40.5\n",
              "Q 257.6 38.0, 258.8 36.7\n",
              "Q 259.9 35.4, 262.1 35.4\n",
              "Q 264.2 35.4, 265.3 36.8\n",
              "L 264.4 37.6\n",
              "Q 263.6 36.5, 262.1 36.5\n",
              "Q 260.6 36.5, 259.8 37.5\n",
              "Q 259.0 38.5, 259.0 40.5\n",
              "Q 259.0 42.4, 259.9 43.4\n",
              "Q 260.7 44.5, 262.3 44.5\n",
              "Q 263.4 44.5, 264.7 43.8\n",
              "L 265.1 44.8\n",
              "Q 264.6 45.2, 263.8 45.4\n",
              "Q 263.0 45.6, 262.1 45.6\n",
              "Q 259.9 45.6, 258.8 44.3\n",
              "Q 257.6 42.9, 257.6 40.5\n",
              "' fill='#000000'/>\n",
              "<path class='atom-4' d='M 266.4 43.8\n",
              "L 267.8 43.8\n",
              "L 267.8 45.2\n",
              "L 266.4 45.2\n",
              "L 266.4 43.8\n",
              "M 266.4 39.0\n",
              "L 267.8 39.0\n",
              "L 267.8 40.4\n",
              "L 266.4 40.4\n",
              "L 266.4 39.0\n",
              "' fill='#000000'/>\n",
              "<path class='atom-4' d='M 275.9 42.0\n",
              "L 277.1 42.0\n",
              "L 277.1 43.2\n",
              "L 275.9 43.2\n",
              "L 275.9 45.5\n",
              "L 274.6 45.5\n",
              "L 274.6 43.2\n",
              "L 269.4 43.2\n",
              "L 269.4 42.3\n",
              "L 273.8 35.5\n",
              "L 275.9 35.5\n",
              "L 275.9 42.0\n",
              "M 271.1 42.0\n",
              "L 274.6 42.0\n",
              "L 274.6 36.4\n",
              "L 271.1 42.0\n",
              "' fill='#000000'/>\n",
              "<path class='atom-5' d='M 299.2 42.2\n",
              "Q 299.2 39.7, 300.3 38.4\n",
              "Q 301.5 37.1, 303.7 37.1\n",
              "Q 305.8 37.1, 306.9 38.5\n",
              "L 305.9 39.3\n",
              "Q 305.1 38.2, 303.7 38.2\n",
              "Q 302.2 38.2, 301.4 39.3\n",
              "Q 300.6 40.3, 300.6 42.2\n",
              "Q 300.6 44.1, 301.4 45.2\n",
              "Q 302.3 46.2, 303.9 46.2\n",
              "Q 305.0 46.2, 306.3 45.5\n",
              "L 306.7 46.6\n",
              "Q 306.1 46.9, 305.3 47.1\n",
              "Q 304.6 47.3, 303.7 47.3\n",
              "Q 301.5 47.3, 300.3 46.0\n",
              "Q 299.2 44.7, 299.2 42.2\n",
              "' fill='#000000'/>\n",
              "<path class='atom-5' d='M 308.0 45.5\n",
              "L 309.4 45.5\n",
              "L 309.4 46.9\n",
              "L 308.0 46.9\n",
              "L 308.0 45.5\n",
              "M 308.0 40.7\n",
              "L 309.4 40.7\n",
              "L 309.4 42.1\n",
              "L 308.0 42.1\n",
              "L 308.0 40.7\n",
              "' fill='#000000'/>\n",
              "<path class='atom-5' d='M 314.6 40.9\n",
              "Q 315.5 40.9, 316.2 41.3\n",
              "Q 316.9 41.7, 317.3 42.4\n",
              "Q 317.7 43.1, 317.7 44.0\n",
              "Q 317.7 45.0, 317.2 45.8\n",
              "Q 316.7 46.5, 315.9 46.9\n",
              "Q 315.1 47.3, 314.1 47.3\n",
              "Q 313.2 47.3, 312.4 47.0\n",
              "Q 311.5 46.6, 311.0 46.0\n",
              "L 311.8 45.1\n",
              "Q 312.3 45.6, 312.9 45.9\n",
              "Q 313.5 46.1, 314.2 46.1\n",
              "Q 315.1 46.1, 315.7 45.6\n",
              "Q 316.3 45.0, 316.3 44.0\n",
              "Q 316.3 43.0, 315.7 42.5\n",
              "Q 315.1 42.0, 314.1 42.0\n",
              "Q 313.2 42.0, 312.3 42.4\n",
              "L 311.5 42.0\n",
              "L 312.0 37.2\n",
              "L 317.1 37.2\n",
              "L 316.9 38.3\n",
              "L 313.1 38.3\n",
              "L 312.8 41.3\n",
              "Q 313.7 40.9, 314.6 40.9\n",
              "' fill='#000000'/>\n",
              "<path class='atom-6' d='M 322.9 12.6\n",
              "Q 322.9 10.2, 324.1 8.8\n",
              "Q 325.3 7.5, 327.5 7.5\n",
              "Q 329.7 7.5, 330.9 8.8\n",
              "Q 332.1 10.2, 332.1 12.6\n",
              "Q 332.1 15.0, 330.9 16.4\n",
              "Q 329.7 17.7, 327.5 17.7\n",
              "Q 325.3 17.7, 324.1 16.4\n",
              "Q 322.9 15.0, 322.9 12.6\n",
              "M 327.5 16.6\n",
              "Q 329.0 16.6, 329.9 15.6\n",
              "Q 330.7 14.6, 330.7 12.6\n",
              "Q 330.7 10.6, 329.9 9.6\n",
              "Q 329.0 8.6, 327.5 8.6\n",
              "Q 326.0 8.6, 325.2 9.6\n",
              "Q 324.4 10.6, 324.4 12.6\n",
              "Q 324.4 14.6, 325.2 15.6\n",
              "Q 326.0 16.6, 327.5 16.6\n",
              "' fill='#FF0000'/>\n",
              "<path class='atom-6' d='M 333.4 15.9\n",
              "L 334.8 15.9\n",
              "L 334.8 17.3\n",
              "L 333.4 17.3\n",
              "L 333.4 15.9\n",
              "M 333.4 11.1\n",
              "L 334.8 11.1\n",
              "L 334.8 12.5\n",
              "L 333.4 12.5\n",
              "L 333.4 11.1\n",
              "' fill='#FF0000'/>\n",
              "<path class='atom-6' d='M 340.4 11.4\n",
              "Q 341.3 11.4, 342.0 11.7\n",
              "Q 342.7 12.1, 343.1 12.8\n",
              "Q 343.4 13.5, 343.4 14.4\n",
              "Q 343.4 15.3, 343.0 16.1\n",
              "Q 342.6 16.9, 341.8 17.3\n",
              "Q 341.1 17.7, 340.1 17.7\n",
              "Q 338.3 17.7, 337.4 16.5\n",
              "Q 336.5 15.3, 336.5 12.9\n",
              "Q 336.5 10.2, 337.6 8.9\n",
              "Q 338.7 7.5, 340.9 7.5\n",
              "Q 341.5 7.5, 342.0 7.6\n",
              "Q 342.5 7.8, 343.1 8.1\n",
              "L 342.5 9.0\n",
              "Q 341.8 8.6, 340.9 8.6\n",
              "Q 339.5 8.6, 338.8 9.5\n",
              "Q 338.0 10.4, 338.0 12.3\n",
              "Q 338.5 11.9, 339.1 11.6\n",
              "Q 339.7 11.4, 340.4 11.4\n",
              "M 340.1 16.5\n",
              "Q 340.6 16.5, 341.1 16.3\n",
              "Q 341.5 16.0, 341.8 15.5\n",
              "Q 342.0 15.0, 342.0 14.4\n",
              "Q 342.0 13.5, 341.5 13.0\n",
              "Q 341.1 12.5, 340.2 12.5\n",
              "Q 339.6 12.5, 339.0 12.7\n",
              "Q 338.4 13.0, 338.0 13.4\n",
              "Q 338.0 15.0, 338.5 15.8\n",
              "Q 339.1 16.5, 340.1 16.5\n",
              "' fill='#FF0000'/>\n",
              "<path class='atom-6' d='M 344.9 7.6\n",
              "L 346.2 7.6\n",
              "L 346.2 11.9\n",
              "L 351.3 11.9\n",
              "L 351.3 7.6\n",
              "L 352.7 7.6\n",
              "L 352.7 17.6\n",
              "L 351.3 17.6\n",
              "L 351.3 13.0\n",
              "L 346.2 13.0\n",
              "L 346.2 17.6\n",
              "L 344.9 17.6\n",
              "L 344.9 7.6\n",
              "' fill='#FF0000'/>\n",
              "<path class='atom-7' d='M 204.4 75.7\n",
              "Q 204.4 73.2, 205.5 71.9\n",
              "Q 206.7 70.6, 208.9 70.6\n",
              "Q 211.0 70.6, 212.1 72.0\n",
              "L 211.1 72.8\n",
              "Q 210.3 71.7, 208.9 71.7\n",
              "Q 207.4 71.7, 206.6 72.8\n",
              "Q 205.8 73.8, 205.8 75.7\n",
              "Q 205.8 77.6, 206.6 78.7\n",
              "Q 207.5 79.7, 209.1 79.7\n",
              "Q 210.2 79.7, 211.4 79.0\n",
              "L 211.8 80.1\n",
              "Q 211.3 80.4, 210.5 80.6\n",
              "Q 209.7 80.8, 208.9 80.8\n",
              "Q 206.7 80.8, 205.5 79.5\n",
              "Q 204.4 78.1, 204.4 75.7\n",
              "' fill='#000000'/>\n",
              "<path class='atom-7' d='M 213.2 79.0\n",
              "L 214.6 79.0\n",
              "L 214.6 80.4\n",
              "L 213.2 80.4\n",
              "L 213.2 79.0\n",
              "M 213.2 74.2\n",
              "L 214.6 74.2\n",
              "L 214.6 75.6\n",
              "L 213.2 75.6\n",
              "L 213.2 74.2\n",
              "' fill='#000000'/>\n",
              "<path class='atom-7' d='M 221.4 71.8\n",
              "L 216.1 71.8\n",
              "L 216.1 70.7\n",
              "L 222.8 70.7\n",
              "L 222.8 71.7\n",
              "L 218.7 80.7\n",
              "L 217.4 80.7\n",
              "L 221.4 71.8\n",
              "' fill='#000000'/>\n",
              "<path class='atom-8' d='M 198.7 110.5\n",
              "Q 198.7 108.0, 199.9 106.7\n",
              "Q 201.1 105.4, 203.3 105.4\n",
              "Q 205.3 105.4, 206.4 106.8\n",
              "L 205.5 107.6\n",
              "Q 204.7 106.5, 203.3 106.5\n",
              "Q 201.8 106.5, 201.0 107.5\n",
              "Q 200.2 108.5, 200.2 110.5\n",
              "Q 200.2 112.4, 201.0 113.4\n",
              "Q 201.8 114.5, 203.4 114.5\n",
              "Q 204.5 114.5, 205.8 113.8\n",
              "L 206.2 114.9\n",
              "Q 205.7 115.2, 204.9 115.4\n",
              "Q 204.1 115.6, 203.2 115.6\n",
              "Q 201.1 115.6, 199.9 114.3\n",
              "Q 198.7 112.9, 198.7 110.5\n",
              "' fill='#000000'/>\n",
              "<path class='atom-8' d='M 207.5 113.8\n",
              "L 208.9 113.8\n",
              "L 208.9 115.2\n",
              "L 207.5 115.2\n",
              "L 207.5 113.8\n",
              "M 207.5 109.0\n",
              "L 208.9 109.0\n",
              "L 208.9 110.4\n",
              "L 207.5 110.4\n",
              "L 207.5 109.0\n",
              "' fill='#000000'/>\n",
              "<path class='atom-8' d='M 215.6 110.2\n",
              "Q 216.5 110.6, 217.1 111.2\n",
              "Q 217.6 111.7, 217.6 112.7\n",
              "Q 217.6 113.6, 217.1 114.2\n",
              "Q 216.7 114.9, 215.9 115.3\n",
              "Q 215.1 115.6, 214.1 115.6\n",
              "Q 212.5 115.6, 211.5 114.8\n",
              "Q 210.5 114.1, 210.5 112.7\n",
              "Q 210.5 111.9, 211.0 111.3\n",
              "Q 211.4 110.7, 212.3 110.2\n",
              "Q 211.6 109.9, 211.3 109.3\n",
              "Q 210.9 108.8, 210.9 107.9\n",
              "Q 210.9 106.8, 211.8 106.1\n",
              "Q 212.6 105.4, 214.1 105.4\n",
              "Q 215.5 105.4, 216.4 106.1\n",
              "Q 217.2 106.8, 217.2 107.9\n",
              "Q 217.2 108.7, 216.8 109.2\n",
              "Q 216.4 109.7, 215.6 110.2\n",
              "M 214.1 106.4\n",
              "Q 213.2 106.4, 212.8 106.8\n",
              "Q 212.3 107.2, 212.3 107.9\n",
              "Q 212.3 108.4, 212.6 108.8\n",
              "Q 212.9 109.1, 213.4 109.3\n",
              "Q 213.8 109.5, 214.7 109.8\n",
              "Q 215.3 109.4, 215.5 109.0\n",
              "Q 215.8 108.5, 215.8 107.9\n",
              "Q 215.8 107.2, 215.3 106.8\n",
              "Q 214.9 106.4, 214.1 106.4\n",
              "M 214.1 114.5\n",
              "Q 215.0 114.5, 215.6 114.1\n",
              "Q 216.2 113.5, 216.2 112.7\n",
              "Q 216.2 112.2, 215.9 111.8\n",
              "Q 215.6 111.5, 215.1 111.3\n",
              "Q 214.7 111.1, 213.9 110.9\n",
              "L 213.3 110.6\n",
              "Q 212.6 111.1, 212.3 111.6\n",
              "Q 211.9 112.1, 211.9 112.7\n",
              "Q 211.9 113.5, 212.5 114.1\n",
              "Q 213.1 114.5, 214.1 114.5\n",
              "' fill='#000000'/>\n",
              "<path class='atom-9' d='M 237.5 121.4\n",
              "L 240.7 126.7\n",
              "Q 241.1 127.2, 241.6 128.1\n",
              "Q 242.1 129.1, 242.1 129.1\n",
              "L 242.1 121.4\n",
              "L 243.5 121.4\n",
              "L 243.5 131.3\n",
              "L 242.1 131.3\n",
              "L 238.6 125.6\n",
              "Q 238.2 124.9, 237.7 124.1\n",
              "Q 237.3 123.3, 237.2 123.1\n",
              "L 237.2 131.3\n",
              "L 235.9 131.3\n",
              "L 235.9 121.4\n",
              "L 237.5 121.4\n",
              "' fill='#0000FF'/>\n",
              "<path class='atom-9' d='M 245.2 129.7\n",
              "L 246.6 129.7\n",
              "L 246.6 131.1\n",
              "L 245.2 131.1\n",
              "L 245.2 129.7\n",
              "M 245.2 124.8\n",
              "L 246.6 124.8\n",
              "L 246.6 126.3\n",
              "L 245.2 126.3\n",
              "L 245.2 124.8\n",
              "' fill='#0000FF'/>\n",
              "<path class='atom-9' d='M 251.5 121.3\n",
              "Q 253.3 121.3, 254.2 122.5\n",
              "Q 255.1 123.7, 255.1 126.1\n",
              "Q 255.1 128.7, 254.0 130.1\n",
              "Q 252.9 131.5, 250.7 131.5\n",
              "Q 250.1 131.5, 249.6 131.3\n",
              "Q 249.1 131.2, 248.5 130.9\n",
              "L 249.1 129.9\n",
              "Q 249.8 130.3, 250.7 130.3\n",
              "Q 252.1 130.3, 252.8 129.4\n",
              "Q 253.6 128.5, 253.6 126.6\n",
              "Q 253.1 127.1, 252.5 127.4\n",
              "Q 251.9 127.6, 251.2 127.6\n",
              "Q 250.3 127.6, 249.6 127.2\n",
              "Q 248.9 126.8, 248.5 126.1\n",
              "Q 248.2 125.5, 248.2 124.6\n",
              "Q 248.2 123.6, 248.6 122.9\n",
              "Q 249.0 122.1, 249.8 121.7\n",
              "Q 250.5 121.3, 251.5 121.3\n",
              "M 249.6 124.6\n",
              "Q 249.6 125.5, 250.1 126.0\n",
              "Q 250.5 126.5, 251.4 126.5\n",
              "Q 252.0 126.5, 252.6 126.2\n",
              "Q 253.2 126.0, 253.6 125.6\n",
              "Q 253.6 123.9, 253.1 123.2\n",
              "Q 252.5 122.4, 251.5 122.4\n",
              "Q 251.0 122.4, 250.5 122.7\n",
              "Q 250.1 123.0, 249.8 123.5\n",
              "Q 249.6 124.0, 249.6 124.6\n",
              "' fill='#0000FF'/>\n",
              "<path class='atom-9' d='M 241.6 132.5\n",
              "L 242.9 132.5\n",
              "L 242.9 136.8\n",
              "L 248.0 136.8\n",
              "L 248.0 132.5\n",
              "L 249.4 132.5\n",
              "L 249.4 142.5\n",
              "L 248.0 142.5\n",
              "L 248.0 137.9\n",
              "L 242.9 137.9\n",
              "L 242.9 142.5\n",
              "L 241.6 142.5\n",
              "L 241.6 132.5\n",
              "' fill='#0000FF'/>\n",
              "<path class='atom-10' d='M 181.3 50.9\n",
              "Q 181.3 48.4, 182.5 47.1\n",
              "Q 183.6 45.8, 185.9 45.8\n",
              "Q 187.9 45.8, 189.0 47.2\n",
              "L 188.1 48.0\n",
              "Q 187.3 46.9, 185.9 46.9\n",
              "Q 184.3 46.9, 183.5 47.9\n",
              "Q 182.8 48.9, 182.8 50.9\n",
              "Q 182.8 52.8, 183.6 53.8\n",
              "Q 184.4 54.9, 186.0 54.9\n",
              "Q 187.1 54.9, 188.4 54.2\n",
              "L 188.8 55.3\n",
              "Q 188.3 55.6, 187.5 55.8\n",
              "Q 186.7 56.0, 185.8 56.0\n",
              "Q 183.6 56.0, 182.5 54.7\n",
              "Q 181.3 53.3, 181.3 50.9\n",
              "' fill='#000000'/>\n",
              "<path class='atom-10' d='M 190.1 54.2\n",
              "L 191.5 54.2\n",
              "L 191.5 55.6\n",
              "L 190.1 55.6\n",
              "L 190.1 54.2\n",
              "M 190.1 49.4\n",
              "L 191.5 49.4\n",
              "L 191.5 50.8\n",
              "L 190.1 50.8\n",
              "L 190.1 49.4\n",
              "' fill='#000000'/>\n",
              "<path class='atom-10' d='M 193.7 54.7\n",
              "L 195.9 54.7\n",
              "L 195.9 47.3\n",
              "L 193.5 48.0\n",
              "L 193.2 47.2\n",
              "L 196.2 45.8\n",
              "L 197.2 46.0\n",
              "L 197.2 54.7\n",
              "L 199.2 54.7\n",
              "L 199.2 55.9\n",
              "L 193.7 55.9\n",
              "L 193.7 54.7\n",
              "' fill='#000000'/>\n",
              "<path class='atom-10' d='M 204.0 56.0\n",
              "Q 202.1 56.0, 201.2 54.6\n",
              "Q 200.3 53.3, 200.3 50.9\n",
              "Q 200.3 48.5, 201.2 47.1\n",
              "Q 202.1 45.8, 204.0 45.8\n",
              "Q 205.8 45.8, 206.7 47.1\n",
              "Q 207.6 48.5, 207.6 50.9\n",
              "Q 207.6 53.3, 206.7 54.6\n",
              "Q 205.8 56.0, 204.0 56.0\n",
              "M 204.0 54.8\n",
              "Q 205.1 54.8, 205.6 53.8\n",
              "Q 206.2 52.8, 206.2 50.9\n",
              "Q 206.2 48.9, 205.6 47.9\n",
              "Q 205.1 46.9, 204.0 46.9\n",
              "Q 202.9 46.9, 202.3 47.9\n",
              "Q 201.7 48.9, 201.7 50.9\n",
              "Q 201.7 52.8, 202.3 53.8\n",
              "Q 202.9 54.8, 204.0 54.8\n",
              "' fill='#000000'/>\n",
              "<path class='atom-11' d='M 148.0 60.1\n",
              "Q 148.0 57.6, 149.2 56.3\n",
              "Q 150.4 55.0, 152.6 55.0\n",
              "Q 154.6 55.0, 155.7 56.5\n",
              "L 154.8 57.2\n",
              "Q 154.0 56.2, 152.6 56.2\n",
              "Q 151.1 56.2, 150.3 57.2\n",
              "Q 149.5 58.2, 149.5 60.1\n",
              "Q 149.5 62.1, 150.3 63.1\n",
              "Q 151.1 64.1, 152.7 64.1\n",
              "Q 153.8 64.1, 155.1 63.4\n",
              "L 155.5 64.5\n",
              "Q 155.0 64.8, 154.2 65.0\n",
              "Q 153.4 65.2, 152.5 65.2\n",
              "Q 150.4 65.2, 149.2 63.9\n",
              "Q 148.0 62.6, 148.0 60.1\n",
              "' fill='#000000'/>\n",
              "<path class='atom-11' d='M 156.8 63.4\n",
              "L 158.2 63.4\n",
              "L 158.2 64.8\n",
              "L 156.8 64.8\n",
              "L 156.8 63.4\n",
              "M 156.8 58.6\n",
              "L 158.2 58.6\n",
              "L 158.2 60.0\n",
              "L 156.8 60.0\n",
              "L 156.8 58.6\n",
              "' fill='#000000'/>\n",
              "<path class='atom-11' d='M 160.4 64.0\n",
              "L 162.5 64.0\n",
              "L 162.5 56.5\n",
              "L 160.1 57.3\n",
              "L 159.8 56.4\n",
              "L 162.9 55.1\n",
              "L 163.9 55.2\n",
              "L 163.9 64.0\n",
              "L 165.8 64.0\n",
              "L 165.8 65.1\n",
              "L 160.4 65.1\n",
              "L 160.4 64.0\n",
              "' fill='#000000'/>\n",
              "<path class='atom-11' d='M 167.5 64.0\n",
              "L 169.7 64.0\n",
              "L 169.7 56.5\n",
              "L 167.3 57.3\n",
              "L 166.9 56.4\n",
              "L 170.0 55.1\n",
              "L 171.0 55.2\n",
              "L 171.0 64.0\n",
              "L 173.0 64.0\n",
              "L 173.0 65.1\n",
              "L 167.5 65.1\n",
              "L 167.5 64.0\n",
              "' fill='#000000'/>\n",
              "<path class='atom-12' d='M 97.3 30.3\n",
              "L 98.7 30.3\n",
              "L 98.7 34.5\n",
              "L 103.8 34.5\n",
              "L 103.8 30.3\n",
              "L 105.1 30.3\n",
              "L 105.1 40.3\n",
              "L 103.8 40.3\n",
              "L 103.8 35.7\n",
              "L 98.7 35.7\n",
              "L 98.7 40.3\n",
              "L 97.3 40.3\n",
              "L 97.3 30.3\n",
              "' fill='#0000FF'/>\n",
              "<path class='atom-12' d='M 107.0 39.9\n",
              "Q 107.2 39.3, 107.8 39.0\n",
              "Q 108.4 38.6, 109.2 38.6\n",
              "Q 110.2 38.6, 110.7 39.1\n",
              "Q 111.3 39.7, 111.3 40.6\n",
              "Q 111.3 41.6, 110.5 42.5\n",
              "Q 109.8 43.4, 108.3 44.5\n",
              "L 111.4 44.5\n",
              "L 111.4 45.3\n",
              "L 106.9 45.3\n",
              "L 106.9 44.6\n",
              "Q 108.2 43.8, 108.9 43.1\n",
              "Q 109.6 42.5, 110.0 41.9\n",
              "Q 110.3 41.3, 110.3 40.7\n",
              "Q 110.3 40.1, 110.0 39.7\n",
              "Q 109.7 39.3, 109.2 39.3\n",
              "Q 108.6 39.3, 108.3 39.6\n",
              "Q 107.9 39.8, 107.7 40.3\n",
              "L 107.0 39.9\n",
              "' fill='#0000FF'/>\n",
              "<path class='atom-12' d='M 114.1 30.3\n",
              "L 117.4 35.6\n",
              "Q 117.7 36.1, 118.2 37.1\n",
              "Q 118.8 38.0, 118.8 38.1\n",
              "L 118.8 30.3\n",
              "L 120.1 30.3\n",
              "L 120.1 40.3\n",
              "L 118.7 40.3\n",
              "L 115.2 34.5\n",
              "Q 114.8 33.8, 114.4 33.1\n",
              "Q 114.0 32.3, 113.8 32.0\n",
              "L 113.8 40.3\n",
              "L 112.5 40.3\n",
              "L 112.5 30.3\n",
              "L 114.1 30.3\n",
              "' fill='#0000FF'/>\n",
              "<path class='atom-12' d='M 121.9 38.6\n",
              "L 123.3 38.6\n",
              "L 123.3 40.0\n",
              "L 121.9 40.0\n",
              "L 121.9 38.6\n",
              "M 121.9 33.8\n",
              "L 123.3 33.8\n",
              "L 123.3 35.2\n",
              "L 121.9 35.2\n",
              "L 121.9 33.8\n",
              "' fill='#0000FF'/>\n",
              "<path class='atom-12' d='M 125.5 39.1\n",
              "L 127.7 39.1\n",
              "L 127.7 31.7\n",
              "L 125.3 32.4\n",
              "L 124.9 31.6\n",
              "L 128.0 30.2\n",
              "L 129.0 30.4\n",
              "L 129.0 39.1\n",
              "L 131.0 39.1\n",
              "L 131.0 40.3\n",
              "L 125.5 40.3\n",
              "L 125.5 39.1\n",
              "' fill='#0000FF'/>\n",
              "<path class='atom-12' d='M 132.2 32.2\n",
              "Q 132.5 31.2, 133.4 30.7\n",
              "Q 134.3 30.2, 135.5 30.2\n",
              "Q 137.0 30.2, 137.9 31.0\n",
              "Q 138.7 31.8, 138.7 33.3\n",
              "Q 138.7 34.8, 137.6 36.1\n",
              "Q 136.5 37.5, 134.3 39.1\n",
              "L 138.9 39.1\n",
              "L 138.9 40.3\n",
              "L 132.2 40.3\n",
              "L 132.2 39.3\n",
              "Q 134.0 38.0, 135.1 37.0\n",
              "Q 136.2 36.0, 136.8 35.1\n",
              "Q 137.3 34.3, 137.3 33.3\n",
              "Q 137.3 32.4, 136.8 31.9\n",
              "Q 136.3 31.3, 135.5 31.3\n",
              "Q 134.7 31.3, 134.2 31.6\n",
              "Q 133.6 32.0, 133.3 32.7\n",
              "L 132.2 32.2\n",
              "' fill='#0000FF'/>\n",
              "</svg>\n"
            ],
            "image/svg+xml": "<?xml version='1.0' encoding='iso-8859-1'?>\n<svg version='1.1' baseProfile='full'\n              xmlns='http://www.w3.org/2000/svg'\n                      xmlns:rdkit='http://www.rdkit.org/xml'\n                      xmlns:xlink='http://www.w3.org/1999/xlink'\n                  xml:space='preserve'\nwidth='450px' height='150px' viewBox='0 0 450 150'>\n<!-- END OF HEADER -->\n<rect style='opacity:1.0;fill:#FFFFFF;stroke:none' width='450.0' height='150.0' x='0.0' y='0.0'> </rect>\n<path class='bond-0 atom-0 atom-1' d='M 324.5,73.5 L 309.5,96.8' style='fill:none;fill-rule:evenodd;stroke:#000000;stroke-width:2.0px;stroke-linecap:butt;stroke-linejoin:miter;stroke-opacity:1' />\n<path class='bond-0 atom-0 atom-1' d='M 318.4,73.2 L 305.0,94.0' style='fill:none;fill-rule:evenodd;stroke:#000000;stroke-width:2.0px;stroke-linecap:butt;stroke-linejoin:miter;stroke-opacity:1' />\n<path class='bond-1 atom-1 atom-2' d='M 300.5,102.8 L 286.1,102.1' style='fill:none;fill-rule:evenodd;stroke:#000000;stroke-width:2.0px;stroke-linecap:butt;stroke-linejoin:miter;stroke-opacity:1' />\n<path class='bond-2 atom-2 atom-3' d='M 267.1,95.1 L 257.5,76.3' style='fill:none;fill-rule:evenodd;stroke:#000000;stroke-width:2.0px;stroke-linecap:butt;stroke-linejoin:miter;stroke-opacity:1' />\n<path class='bond-2 atom-2 atom-3' d='M 271.8,92.7 L 262.2,73.9' style='fill:none;fill-rule:evenodd;stroke:#000000;stroke-width:2.0px;stroke-linecap:butt;stroke-linejoin:miter;stroke-opacity:1' />\n<path class='bond-3 atom-3 atom-4' d='M 258.2,63.8 L 268.2,48.2' style='fill:none;fill-rule:evenodd;stroke:#000000;stroke-width:2.0px;stroke-linecap:butt;stroke-linejoin:miter;stroke-opacity:1' />\n<path class='bond-4 atom-4 atom-5' d='M 278.3,40.7 L 298.0,41.6' style='fill:none;fill-rule:evenodd;stroke:#000000;stroke-width:2.0px;stroke-linecap:butt;stroke-linejoin:miter;stroke-opacity:1' />\n<path class='bond-4 atom-4 atom-5' d='M 278.0,45.9 L 297.8,46.9' style='fill:none;fill-rule:evenodd;stroke:#000000;stroke-width:2.0px;stroke-linecap:butt;stroke-linejoin:miter;stroke-opacity:1' />\n<path class='bond-5 atom-5 atom-6' d='M 312.4,36.0 L 317.9,27.5' style='fill:none;fill-rule:evenodd;stroke:#000000;stroke-width:2.0px;stroke-linecap:butt;stroke-linejoin:miter;stroke-opacity:1' />\n<path class='bond-5 atom-5 atom-6' d='M 317.9,27.5 L 323.4,18.9' style='fill:none;fill-rule:evenodd;stroke:#FF0000;stroke-width:2.0px;stroke-linecap:butt;stroke-linejoin:miter;stroke-opacity:1' />\n<path class='bond-6 atom-3 atom-7' d='M 243.8,71.7 L 223.9,74.9' style='fill:none;fill-rule:evenodd;stroke:#000000;stroke-width:2.0px;stroke-linecap:butt;stroke-linejoin:miter;stroke-opacity:1' />\n<path class='bond-7 atom-7 atom-8' d='M 218.5,81.8 L 215.0,104.2' style='fill:none;fill-rule:evenodd;stroke:#000000;stroke-width:2.0px;stroke-linecap:butt;stroke-linejoin:miter;stroke-opacity:1' />\n<path class='bond-7 atom-7 atom-8' d='M 223.7,82.6 L 220.2,105.0' style='fill:none;fill-rule:evenodd;stroke:#000000;stroke-width:2.0px;stroke-linecap:butt;stroke-linejoin:miter;stroke-opacity:1' />\n<path class='bond-8 atom-8 atom-9' d='M 218.7,112.8 L 226.7,116.8' style='fill:none;fill-rule:evenodd;stroke:#000000;stroke-width:2.0px;stroke-linecap:butt;stroke-linejoin:miter;stroke-opacity:1' />\n<path class='bond-8 atom-8 atom-9' d='M 226.7,116.8 L 234.7,120.9' style='fill:none;fill-rule:evenodd;stroke:#0000FF;stroke-width:2.0px;stroke-linecap:butt;stroke-linejoin:miter;stroke-opacity:1' />\n<path class='bond-9 atom-7 atom-10' d='M 213.2,69.4 L 200.8,57.1' style='fill:none;fill-rule:evenodd;stroke:#000000;stroke-width:2.0px;stroke-linecap:butt;stroke-linejoin:miter;stroke-opacity:1' />\n<path class='bond-10 atom-10 atom-11' d='M 180.2,54.7 L 174.1,56.3' style='fill:none;fill-rule:evenodd;stroke:#000000;stroke-width:2.0px;stroke-linecap:butt;stroke-linejoin:miter;stroke-opacity:1' />\n<path class='bond-11 atom-11 atom-12' d='M 154.2,53.8 L 147.1,46.8' style='fill:none;fill-rule:evenodd;stroke:#000000;stroke-width:2.0px;stroke-linecap:butt;stroke-linejoin:miter;stroke-opacity:1' />\n<path class='bond-11 atom-11 atom-12' d='M 147.1,46.8 L 140.0,39.7' style='fill:none;fill-rule:evenodd;stroke:#0000FF;stroke-width:2.0px;stroke-linecap:butt;stroke-linejoin:miter;stroke-opacity:1' />\n<path class='bond-12 atom-5 atom-0' d='M 311.7,48.5 L 324.5,73.5' style='fill:none;fill-rule:evenodd;stroke:#000000;stroke-width:2.0px;stroke-linecap:butt;stroke-linejoin:miter;stroke-opacity:1' />\n<path class='bond-13 atom-9 atom-2' d='M 251.6,120.1 L 258.5,113.2' style='fill:none;fill-rule:evenodd;stroke:#0000FF;stroke-width:2.0px;stroke-linecap:butt;stroke-linejoin:miter;stroke-opacity:1' />\n<path class='bond-13 atom-9 atom-2' d='M 258.5,113.2 L 265.3,106.4' style='fill:none;fill-rule:evenodd;stroke:#000000;stroke-width:2.0px;stroke-linecap:butt;stroke-linejoin:miter;stroke-opacity:1' />\n<path d='M 323.8,74.6 L 324.5,73.5 L 323.9,72.2' style='fill:none;stroke:#000000;stroke-width:2.0px;stroke-linecap:butt;stroke-linejoin:miter;stroke-opacity:1;' />\n<path class='atom-1' d='M 301.6 103.1\nQ 301.6 100.6, 302.8 99.3\nQ 303.9 98.0, 306.2 98.0\nQ 308.2 98.0, 309.3 99.5\nL 308.4 100.2\nQ 307.6 99.2, 306.2 99.2\nQ 304.6 99.2, 303.8 100.2\nQ 303.1 101.2, 303.1 103.1\nQ 303.1 105.1, 303.9 106.1\nQ 304.7 107.1, 306.3 107.1\nQ 307.4 107.1, 308.7 106.4\nL 309.1 107.5\nQ 308.6 107.8, 307.8 108.0\nQ 307.0 108.2, 306.1 108.2\nQ 303.9 108.2, 302.8 106.9\nQ 301.6 105.6, 301.6 103.1\n' fill='#000000'/>\n<path class='atom-1' d='M 310.4 106.4\nL 311.8 106.4\nL 311.8 107.8\nL 310.4 107.8\nL 310.4 106.4\nM 310.4 101.6\nL 311.8 101.6\nL 311.8 103.0\nL 310.4 103.0\nL 310.4 101.6\n' fill='#000000'/>\n<path class='atom-1' d='M 313.9 107.0\nL 316.1 107.0\nL 316.1 99.5\nL 313.7 100.3\nL 313.3 99.4\nL 316.4 98.1\nL 317.4 98.2\nL 317.4 107.0\nL 319.4 107.0\nL 319.4 108.1\nL 313.9 108.1\nL 313.9 107.0\n' fill='#000000'/>\n<path class='atom-2' d='M 266.5 101.4\nQ 266.5 98.9, 267.6 97.6\nQ 268.8 96.3, 271.0 96.3\nQ 273.0 96.3, 274.1 97.7\nL 273.2 98.5\nQ 272.4 97.4, 271.0 97.4\nQ 269.5 97.4, 268.7 98.4\nQ 267.9 99.4, 267.9 101.4\nQ 267.9 103.3, 268.7 104.3\nQ 269.5 105.4, 271.1 105.4\nQ 272.2 105.4, 273.5 104.7\nL 273.9 105.8\nQ 273.4 106.1, 272.6 106.3\nQ 271.8 106.5, 270.9 106.5\nQ 268.8 106.5, 267.6 105.2\nQ 266.5 103.8, 266.5 101.4\n' fill='#000000'/>\n<path class='atom-2' d='M 275.2 104.7\nL 276.6 104.7\nL 276.6 106.1\nL 275.2 106.1\nL 275.2 104.7\nM 275.2 99.9\nL 276.6 99.9\nL 276.6 101.3\nL 275.2 101.3\nL 275.2 99.9\n' fill='#000000'/>\n<path class='atom-2' d='M 278.3 98.3\nQ 278.6 97.3, 279.5 96.8\nQ 280.4 96.3, 281.6 96.3\nQ 283.1 96.3, 283.9 97.1\nQ 284.8 97.9, 284.8 99.4\nQ 284.8 100.8, 283.7 102.2\nQ 282.6 103.6, 280.3 105.2\nL 284.9 105.2\nL 284.9 106.4\nL 278.2 106.4\nL 278.2 105.4\nQ 280.1 104.1, 281.2 103.1\nQ 282.3 102.1, 282.8 101.2\nQ 283.4 100.3, 283.4 99.4\nQ 283.4 98.5, 282.9 97.9\nQ 282.4 97.4, 281.6 97.4\nQ 280.8 97.4, 280.2 97.7\nQ 279.7 98.1, 279.3 98.8\nL 278.3 98.3\n' fill='#000000'/>\n<path class='atom-3' d='M 245.0 70.0\nQ 245.0 67.6, 246.1 66.3\nQ 247.3 65.0, 249.5 65.0\nQ 251.6 65.0, 252.7 66.4\nL 251.7 67.2\nQ 250.9 66.1, 249.5 66.1\nQ 248.0 66.1, 247.2 67.1\nQ 246.4 68.1, 246.4 70.0\nQ 246.4 72.0, 247.2 73.0\nQ 248.1 74.0, 249.7 74.0\nQ 250.8 74.0, 252.0 73.4\nL 252.4 74.4\nQ 251.9 74.8, 251.1 75.0\nQ 250.3 75.2, 249.5 75.2\nQ 247.3 75.2, 246.1 73.8\nQ 245.0 72.5, 245.0 70.0\n' fill='#000000'/>\n<path class='atom-3' d='M 253.7 73.4\nL 255.2 73.4\nL 255.2 74.8\nL 253.7 74.8\nL 253.7 73.4\nM 253.7 68.6\nL 255.2 68.6\nL 255.2 70.0\nL 253.7 70.0\nL 253.7 68.6\n' fill='#000000'/>\n<path class='atom-3' d='M 261.5 69.8\nQ 262.5 70.1, 263.0 70.7\nQ 263.4 71.3, 263.4 72.3\nQ 263.4 73.2, 263.0 73.8\nQ 262.6 74.5, 261.8 74.8\nQ 261.0 75.2, 260.0 75.2\nQ 259.0 75.2, 258.2 74.8\nQ 257.4 74.4, 256.7 73.7\nL 257.5 72.9\nQ 258.2 73.5, 258.7 73.8\nQ 259.2 74.1, 260.0 74.1\nQ 260.9 74.1, 261.5 73.6\nQ 262.0 73.1, 262.0 72.3\nQ 262.0 71.3, 261.5 70.8\nQ 260.9 70.4, 259.7 70.4\nL 259.0 70.4\nL 259.0 69.4\nL 259.6 69.4\nQ 260.7 69.3, 261.2 68.9\nQ 261.8 68.4, 261.8 67.5\nQ 261.8 66.9, 261.3 66.5\nQ 260.9 66.1, 260.0 66.1\nQ 259.2 66.1, 258.7 66.4\nQ 258.2 66.7, 257.8 67.4\nL 256.8 66.9\nQ 257.2 66.1, 258.0 65.5\nQ 258.9 65.0, 260.0 65.0\nQ 261.5 65.0, 262.4 65.7\nQ 263.2 66.3, 263.2 67.5\nQ 263.2 68.3, 262.8 68.9\nQ 262.4 69.5, 261.5 69.8\n' fill='#000000'/>\n<path class='atom-4' d='M 257.6 40.5\nQ 257.6 38.0, 258.8 36.7\nQ 259.9 35.4, 262.1 35.4\nQ 264.2 35.4, 265.3 36.8\nL 264.4 37.6\nQ 263.6 36.5, 262.1 36.5\nQ 260.6 36.5, 259.8 37.5\nQ 259.0 38.5, 259.0 40.5\nQ 259.0 42.4, 259.9 43.4\nQ 260.7 44.5, 262.3 44.5\nQ 263.4 44.5, 264.7 43.8\nL 265.1 44.8\nQ 264.6 45.2, 263.8 45.4\nQ 263.0 45.6, 262.1 45.6\nQ 259.9 45.6, 258.8 44.3\nQ 257.6 42.9, 257.6 40.5\n' fill='#000000'/>\n<path class='atom-4' d='M 266.4 43.8\nL 267.8 43.8\nL 267.8 45.2\nL 266.4 45.2\nL 266.4 43.8\nM 266.4 39.0\nL 267.8 39.0\nL 267.8 40.4\nL 266.4 40.4\nL 266.4 39.0\n' fill='#000000'/>\n<path class='atom-4' d='M 275.9 42.0\nL 277.1 42.0\nL 277.1 43.2\nL 275.9 43.2\nL 275.9 45.5\nL 274.6 45.5\nL 274.6 43.2\nL 269.4 43.2\nL 269.4 42.3\nL 273.8 35.5\nL 275.9 35.5\nL 275.9 42.0\nM 271.1 42.0\nL 274.6 42.0\nL 274.6 36.4\nL 271.1 42.0\n' fill='#000000'/>\n<path class='atom-5' d='M 299.2 42.2\nQ 299.2 39.7, 300.3 38.4\nQ 301.5 37.1, 303.7 37.1\nQ 305.8 37.1, 306.9 38.5\nL 305.9 39.3\nQ 305.1 38.2, 303.7 38.2\nQ 302.2 38.2, 301.4 39.3\nQ 300.6 40.3, 300.6 42.2\nQ 300.6 44.1, 301.4 45.2\nQ 302.3 46.2, 303.9 46.2\nQ 305.0 46.2, 306.3 45.5\nL 306.7 46.6\nQ 306.1 46.9, 305.3 47.1\nQ 304.6 47.3, 303.7 47.3\nQ 301.5 47.3, 300.3 46.0\nQ 299.2 44.7, 299.2 42.2\n' fill='#000000'/>\n<path class='atom-5' d='M 308.0 45.5\nL 309.4 45.5\nL 309.4 46.9\nL 308.0 46.9\nL 308.0 45.5\nM 308.0 40.7\nL 309.4 40.7\nL 309.4 42.1\nL 308.0 42.1\nL 308.0 40.7\n' fill='#000000'/>\n<path class='atom-5' d='M 314.6 40.9\nQ 315.5 40.9, 316.2 41.3\nQ 316.9 41.7, 317.3 42.4\nQ 317.7 43.1, 317.7 44.0\nQ 317.7 45.0, 317.2 45.8\nQ 316.7 46.5, 315.9 46.9\nQ 315.1 47.3, 314.1 47.3\nQ 313.2 47.3, 312.4 47.0\nQ 311.5 46.6, 311.0 46.0\nL 311.8 45.1\nQ 312.3 45.6, 312.9 45.9\nQ 313.5 46.1, 314.2 46.1\nQ 315.1 46.1, 315.7 45.6\nQ 316.3 45.0, 316.3 44.0\nQ 316.3 43.0, 315.7 42.5\nQ 315.1 42.0, 314.1 42.0\nQ 313.2 42.0, 312.3 42.4\nL 311.5 42.0\nL 312.0 37.2\nL 317.1 37.2\nL 316.9 38.3\nL 313.1 38.3\nL 312.8 41.3\nQ 313.7 40.9, 314.6 40.9\n' fill='#000000'/>\n<path class='atom-6' d='M 322.9 12.6\nQ 322.9 10.2, 324.1 8.8\nQ 325.3 7.5, 327.5 7.5\nQ 329.7 7.5, 330.9 8.8\nQ 332.1 10.2, 332.1 12.6\nQ 332.1 15.0, 330.9 16.4\nQ 329.7 17.7, 327.5 17.7\nQ 325.3 17.7, 324.1 16.4\nQ 322.9 15.0, 322.9 12.6\nM 327.5 16.6\nQ 329.0 16.6, 329.9 15.6\nQ 330.7 14.6, 330.7 12.6\nQ 330.7 10.6, 329.9 9.6\nQ 329.0 8.6, 327.5 8.6\nQ 326.0 8.6, 325.2 9.6\nQ 324.4 10.6, 324.4 12.6\nQ 324.4 14.6, 325.2 15.6\nQ 326.0 16.6, 327.5 16.6\n' fill='#FF0000'/>\n<path class='atom-6' d='M 333.4 15.9\nL 334.8 15.9\nL 334.8 17.3\nL 333.4 17.3\nL 333.4 15.9\nM 333.4 11.1\nL 334.8 11.1\nL 334.8 12.5\nL 333.4 12.5\nL 333.4 11.1\n' fill='#FF0000'/>\n<path class='atom-6' d='M 340.4 11.4\nQ 341.3 11.4, 342.0 11.7\nQ 342.7 12.1, 343.1 12.8\nQ 343.4 13.5, 343.4 14.4\nQ 343.4 15.3, 343.0 16.1\nQ 342.6 16.9, 341.8 17.3\nQ 341.1 17.7, 340.1 17.7\nQ 338.3 17.7, 337.4 16.5\nQ 336.5 15.3, 336.5 12.9\nQ 336.5 10.2, 337.6 8.9\nQ 338.7 7.5, 340.9 7.5\nQ 341.5 7.5, 342.0 7.6\nQ 342.5 7.8, 343.1 8.1\nL 342.5 9.0\nQ 341.8 8.6, 340.9 8.6\nQ 339.5 8.6, 338.8 9.5\nQ 338.0 10.4, 338.0 12.3\nQ 338.5 11.9, 339.1 11.6\nQ 339.7 11.4, 340.4 11.4\nM 340.1 16.5\nQ 340.6 16.5, 341.1 16.3\nQ 341.5 16.0, 341.8 15.5\nQ 342.0 15.0, 342.0 14.4\nQ 342.0 13.5, 341.5 13.0\nQ 341.1 12.5, 340.2 12.5\nQ 339.6 12.5, 339.0 12.7\nQ 338.4 13.0, 338.0 13.4\nQ 338.0 15.0, 338.5 15.8\nQ 339.1 16.5, 340.1 16.5\n' fill='#FF0000'/>\n<path class='atom-6' d='M 344.9 7.6\nL 346.2 7.6\nL 346.2 11.9\nL 351.3 11.9\nL 351.3 7.6\nL 352.7 7.6\nL 352.7 17.6\nL 351.3 17.6\nL 351.3 13.0\nL 346.2 13.0\nL 346.2 17.6\nL 344.9 17.6\nL 344.9 7.6\n' fill='#FF0000'/>\n<path class='atom-7' d='M 204.4 75.7\nQ 204.4 73.2, 205.5 71.9\nQ 206.7 70.6, 208.9 70.6\nQ 211.0 70.6, 212.1 72.0\nL 211.1 72.8\nQ 210.3 71.7, 208.9 71.7\nQ 207.4 71.7, 206.6 72.8\nQ 205.8 73.8, 205.8 75.7\nQ 205.8 77.6, 206.6 78.7\nQ 207.5 79.7, 209.1 79.7\nQ 210.2 79.7, 211.4 79.0\nL 211.8 80.1\nQ 211.3 80.4, 210.5 80.6\nQ 209.7 80.8, 208.9 80.8\nQ 206.7 80.8, 205.5 79.5\nQ 204.4 78.1, 204.4 75.7\n' fill='#000000'/>\n<path class='atom-7' d='M 213.2 79.0\nL 214.6 79.0\nL 214.6 80.4\nL 213.2 80.4\nL 213.2 79.0\nM 213.2 74.2\nL 214.6 74.2\nL 214.6 75.6\nL 213.2 75.6\nL 213.2 74.2\n' fill='#000000'/>\n<path class='atom-7' d='M 221.4 71.8\nL 216.1 71.8\nL 216.1 70.7\nL 222.8 70.7\nL 222.8 71.7\nL 218.7 80.7\nL 217.4 80.7\nL 221.4 71.8\n' fill='#000000'/>\n<path class='atom-8' d='M 198.7 110.5\nQ 198.7 108.0, 199.9 106.7\nQ 201.1 105.4, 203.3 105.4\nQ 205.3 105.4, 206.4 106.8\nL 205.5 107.6\nQ 204.7 106.5, 203.3 106.5\nQ 201.8 106.5, 201.0 107.5\nQ 200.2 108.5, 200.2 110.5\nQ 200.2 112.4, 201.0 113.4\nQ 201.8 114.5, 203.4 114.5\nQ 204.5 114.5, 205.8 113.8\nL 206.2 114.9\nQ 205.7 115.2, 204.9 115.4\nQ 204.1 115.6, 203.2 115.6\nQ 201.1 115.6, 199.9 114.3\nQ 198.7 112.9, 198.7 110.5\n' fill='#000000'/>\n<path class='atom-8' d='M 207.5 113.8\nL 208.9 113.8\nL 208.9 115.2\nL 207.5 115.2\nL 207.5 113.8\nM 207.5 109.0\nL 208.9 109.0\nL 208.9 110.4\nL 207.5 110.4\nL 207.5 109.0\n' fill='#000000'/>\n<path class='atom-8' d='M 215.6 110.2\nQ 216.5 110.6, 217.1 111.2\nQ 217.6 111.7, 217.6 112.7\nQ 217.6 113.6, 217.1 114.2\nQ 216.7 114.9, 215.9 115.3\nQ 215.1 115.6, 214.1 115.6\nQ 212.5 115.6, 211.5 114.8\nQ 210.5 114.1, 210.5 112.7\nQ 210.5 111.9, 211.0 111.3\nQ 211.4 110.7, 212.3 110.2\nQ 211.6 109.9, 211.3 109.3\nQ 210.9 108.8, 210.9 107.9\nQ 210.9 106.8, 211.8 106.1\nQ 212.6 105.4, 214.1 105.4\nQ 215.5 105.4, 216.4 106.1\nQ 217.2 106.8, 217.2 107.9\nQ 217.2 108.7, 216.8 109.2\nQ 216.4 109.7, 215.6 110.2\nM 214.1 106.4\nQ 213.2 106.4, 212.8 106.8\nQ 212.3 107.2, 212.3 107.9\nQ 212.3 108.4, 212.6 108.8\nQ 212.9 109.1, 213.4 109.3\nQ 213.8 109.5, 214.7 109.8\nQ 215.3 109.4, 215.5 109.0\nQ 215.8 108.5, 215.8 107.9\nQ 215.8 107.2, 215.3 106.8\nQ 214.9 106.4, 214.1 106.4\nM 214.1 114.5\nQ 215.0 114.5, 215.6 114.1\nQ 216.2 113.5, 216.2 112.7\nQ 216.2 112.2, 215.9 111.8\nQ 215.6 111.5, 215.1 111.3\nQ 214.7 111.1, 213.9 110.9\nL 213.3 110.6\nQ 212.6 111.1, 212.3 111.6\nQ 211.9 112.1, 211.9 112.7\nQ 211.9 113.5, 212.5 114.1\nQ 213.1 114.5, 214.1 114.5\n' fill='#000000'/>\n<path class='atom-9' d='M 237.5 121.4\nL 240.7 126.7\nQ 241.1 127.2, 241.6 128.1\nQ 242.1 129.1, 242.1 129.1\nL 242.1 121.4\nL 243.5 121.4\nL 243.5 131.3\nL 242.1 131.3\nL 238.6 125.6\nQ 238.2 124.9, 237.7 124.1\nQ 237.3 123.3, 237.2 123.1\nL 237.2 131.3\nL 235.9 131.3\nL 235.9 121.4\nL 237.5 121.4\n' fill='#0000FF'/>\n<path class='atom-9' d='M 245.2 129.7\nL 246.6 129.7\nL 246.6 131.1\nL 245.2 131.1\nL 245.2 129.7\nM 245.2 124.8\nL 246.6 124.8\nL 246.6 126.3\nL 245.2 126.3\nL 245.2 124.8\n' fill='#0000FF'/>\n<path class='atom-9' d='M 251.5 121.3\nQ 253.3 121.3, 254.2 122.5\nQ 255.1 123.7, 255.1 126.1\nQ 255.1 128.7, 254.0 130.1\nQ 252.9 131.5, 250.7 131.5\nQ 250.1 131.5, 249.6 131.3\nQ 249.1 131.2, 248.5 130.9\nL 249.1 129.9\nQ 249.8 130.3, 250.7 130.3\nQ 252.1 130.3, 252.8 129.4\nQ 253.6 128.5, 253.6 126.6\nQ 253.1 127.1, 252.5 127.4\nQ 251.9 127.6, 251.2 127.6\nQ 250.3 127.6, 249.6 127.2\nQ 248.9 126.8, 248.5 126.1\nQ 248.2 125.5, 248.2 124.6\nQ 248.2 123.6, 248.6 122.9\nQ 249.0 122.1, 249.8 121.7\nQ 250.5 121.3, 251.5 121.3\nM 249.6 124.6\nQ 249.6 125.5, 250.1 126.0\nQ 250.5 126.5, 251.4 126.5\nQ 252.0 126.5, 252.6 126.2\nQ 253.2 126.0, 253.6 125.6\nQ 253.6 123.9, 253.1 123.2\nQ 252.5 122.4, 251.5 122.4\nQ 251.0 122.4, 250.5 122.7\nQ 250.1 123.0, 249.8 123.5\nQ 249.6 124.0, 249.6 124.6\n' fill='#0000FF'/>\n<path class='atom-9' d='M 241.6 132.5\nL 242.9 132.5\nL 242.9 136.8\nL 248.0 136.8\nL 248.0 132.5\nL 249.4 132.5\nL 249.4 142.5\nL 248.0 142.5\nL 248.0 137.9\nL 242.9 137.9\nL 242.9 142.5\nL 241.6 142.5\nL 241.6 132.5\n' fill='#0000FF'/>\n<path class='atom-10' d='M 181.3 50.9\nQ 181.3 48.4, 182.5 47.1\nQ 183.6 45.8, 185.9 45.8\nQ 187.9 45.8, 189.0 47.2\nL 188.1 48.0\nQ 187.3 46.9, 185.9 46.9\nQ 184.3 46.9, 183.5 47.9\nQ 182.8 48.9, 182.8 50.9\nQ 182.8 52.8, 183.6 53.8\nQ 184.4 54.9, 186.0 54.9\nQ 187.1 54.9, 188.4 54.2\nL 188.8 55.3\nQ 188.3 55.6, 187.5 55.8\nQ 186.7 56.0, 185.8 56.0\nQ 183.6 56.0, 182.5 54.7\nQ 181.3 53.3, 181.3 50.9\n' fill='#000000'/>\n<path class='atom-10' d='M 190.1 54.2\nL 191.5 54.2\nL 191.5 55.6\nL 190.1 55.6\nL 190.1 54.2\nM 190.1 49.4\nL 191.5 49.4\nL 191.5 50.8\nL 190.1 50.8\nL 190.1 49.4\n' fill='#000000'/>\n<path class='atom-10' d='M 193.7 54.7\nL 195.9 54.7\nL 195.9 47.3\nL 193.5 48.0\nL 193.2 47.2\nL 196.2 45.8\nL 197.2 46.0\nL 197.2 54.7\nL 199.2 54.7\nL 199.2 55.9\nL 193.7 55.9\nL 193.7 54.7\n' fill='#000000'/>\n<path class='atom-10' d='M 204.0 56.0\nQ 202.1 56.0, 201.2 54.6\nQ 200.3 53.3, 200.3 50.9\nQ 200.3 48.5, 201.2 47.1\nQ 202.1 45.8, 204.0 45.8\nQ 205.8 45.8, 206.7 47.1\nQ 207.6 48.5, 207.6 50.9\nQ 207.6 53.3, 206.7 54.6\nQ 205.8 56.0, 204.0 56.0\nM 204.0 54.8\nQ 205.1 54.8, 205.6 53.8\nQ 206.2 52.8, 206.2 50.9\nQ 206.2 48.9, 205.6 47.9\nQ 205.1 46.9, 204.0 46.9\nQ 202.9 46.9, 202.3 47.9\nQ 201.7 48.9, 201.7 50.9\nQ 201.7 52.8, 202.3 53.8\nQ 202.9 54.8, 204.0 54.8\n' fill='#000000'/>\n<path class='atom-11' d='M 148.0 60.1\nQ 148.0 57.6, 149.2 56.3\nQ 150.4 55.0, 152.6 55.0\nQ 154.6 55.0, 155.7 56.5\nL 154.8 57.2\nQ 154.0 56.2, 152.6 56.2\nQ 151.1 56.2, 150.3 57.2\nQ 149.5 58.2, 149.5 60.1\nQ 149.5 62.1, 150.3 63.1\nQ 151.1 64.1, 152.7 64.1\nQ 153.8 64.1, 155.1 63.4\nL 155.5 64.5\nQ 155.0 64.8, 154.2 65.0\nQ 153.4 65.2, 152.5 65.2\nQ 150.4 65.2, 149.2 63.9\nQ 148.0 62.6, 148.0 60.1\n' fill='#000000'/>\n<path class='atom-11' d='M 156.8 63.4\nL 158.2 63.4\nL 158.2 64.8\nL 156.8 64.8\nL 156.8 63.4\nM 156.8 58.6\nL 158.2 58.6\nL 158.2 60.0\nL 156.8 60.0\nL 156.8 58.6\n' fill='#000000'/>\n<path class='atom-11' d='M 160.4 64.0\nL 162.5 64.0\nL 162.5 56.5\nL 160.1 57.3\nL 159.8 56.4\nL 162.9 55.1\nL 163.9 55.2\nL 163.9 64.0\nL 165.8 64.0\nL 165.8 65.1\nL 160.4 65.1\nL 160.4 64.0\n' fill='#000000'/>\n<path class='atom-11' d='M 167.5 64.0\nL 169.7 64.0\nL 169.7 56.5\nL 167.3 57.3\nL 166.9 56.4\nL 170.0 55.1\nL 171.0 55.2\nL 171.0 64.0\nL 173.0 64.0\nL 173.0 65.1\nL 167.5 65.1\nL 167.5 64.0\n' fill='#000000'/>\n<path class='atom-12' d='M 97.3 30.3\nL 98.7 30.3\nL 98.7 34.5\nL 103.8 34.5\nL 103.8 30.3\nL 105.1 30.3\nL 105.1 40.3\nL 103.8 40.3\nL 103.8 35.7\nL 98.7 35.7\nL 98.7 40.3\nL 97.3 40.3\nL 97.3 30.3\n' fill='#0000FF'/>\n<path class='atom-12' d='M 107.0 39.9\nQ 107.2 39.3, 107.8 39.0\nQ 108.4 38.6, 109.2 38.6\nQ 110.2 38.6, 110.7 39.1\nQ 111.3 39.7, 111.3 40.6\nQ 111.3 41.6, 110.5 42.5\nQ 109.8 43.4, 108.3 44.5\nL 111.4 44.5\nL 111.4 45.3\nL 106.9 45.3\nL 106.9 44.6\nQ 108.2 43.8, 108.9 43.1\nQ 109.6 42.5, 110.0 41.9\nQ 110.3 41.3, 110.3 40.7\nQ 110.3 40.1, 110.0 39.7\nQ 109.7 39.3, 109.2 39.3\nQ 108.6 39.3, 108.3 39.6\nQ 107.9 39.8, 107.7 40.3\nL 107.0 39.9\n' fill='#0000FF'/>\n<path class='atom-12' d='M 114.1 30.3\nL 117.4 35.6\nQ 117.7 36.1, 118.2 37.1\nQ 118.8 38.0, 118.8 38.1\nL 118.8 30.3\nL 120.1 30.3\nL 120.1 40.3\nL 118.7 40.3\nL 115.2 34.5\nQ 114.8 33.8, 114.4 33.1\nQ 114.0 32.3, 113.8 32.0\nL 113.8 40.3\nL 112.5 40.3\nL 112.5 30.3\nL 114.1 30.3\n' fill='#0000FF'/>\n<path class='atom-12' d='M 121.9 38.6\nL 123.3 38.6\nL 123.3 40.0\nL 121.9 40.0\nL 121.9 38.6\nM 121.9 33.8\nL 123.3 33.8\nL 123.3 35.2\nL 121.9 35.2\nL 121.9 33.8\n' fill='#0000FF'/>\n<path class='atom-12' d='M 125.5 39.1\nL 127.7 39.1\nL 127.7 31.7\nL 125.3 32.4\nL 124.9 31.6\nL 128.0 30.2\nL 129.0 30.4\nL 129.0 39.1\nL 131.0 39.1\nL 131.0 40.3\nL 125.5 40.3\nL 125.5 39.1\n' fill='#0000FF'/>\n<path class='atom-12' d='M 132.2 32.2\nQ 132.5 31.2, 133.4 30.7\nQ 134.3 30.2, 135.5 30.2\nQ 137.0 30.2, 137.9 31.0\nQ 138.7 31.8, 138.7 33.3\nQ 138.7 34.8, 137.6 36.1\nQ 136.5 37.5, 134.3 39.1\nL 138.9 39.1\nL 138.9 40.3\nL 132.2 40.3\nL 132.2 39.3\nQ 134.0 38.0, 135.1 37.0\nQ 136.2 36.0, 136.8 35.1\nQ 137.3 34.3, 137.3 33.3\nQ 137.3 32.4, 136.8 31.9\nQ 136.3 31.3, 135.5 31.3\nQ 134.7 31.3, 134.2 31.6\nQ 133.6 32.0, 133.3 32.7\nL 132.2 32.2\n' fill='#0000FF'/>\n</svg>\n",
            "image/png": "[encoded data removed]"
          },
          "metadata": {},
          "execution_count": 18
        }
      ]
    },
    {
      "cell_type": "markdown",
      "source": [
        "Deberías ver la estructura dibujada de la molécula (un anillo indólico y una cadena lateral con un -OH y un -NH₂). Cada átomo tendrá un número etiquetado.\n",
        "\n",
        "> **Nota:** Si lo deseas, puedes ir al sitio [PubChem](https://pubchem.ncbi.nlm.nih.gov/) y buscar la molécula que gustes; luego copia su código SMILES en la variable `smiles` para ver su estructura. ¡Prueba con la cafeína, la glucosa, algún fármaco, etc.!"
      ],
      "metadata": {
        "id": "uGBKQ7MNmxlc"
      }
    },
    {
      "cell_type": "markdown",
      "source": [
        "# Ejercicios Prácticos"
      ],
      "metadata": {
        "id": "eJbjwANmdmnD"
      }
    },
    {
      "cell_type": "markdown",
      "source": [
        "<p align=\"center\">\n",
        "  <img src=\"https://i.gifer.com/7fot.gif\" alt=\"Reacción de Shock\" width=\"400\" />\n",
        "</p>"
      ],
      "metadata": {
        "id": "SvXuD7eiVv5y"
      }
    },
    {
      "cell_type": "markdown",
      "source": [
        "A continuación te proponemos algunos ejercicios cortos para poner en práctica los fundamentos aprendidos. Trata de resolverlos y luego compara tu enfoque con la solución proporcionada. **¡Manos a la obra!**"
      ],
      "metadata": {
        "id": "wCDOpNT0m5YM"
      }
    },
    {
      "cell_type": "markdown",
      "source": [
        "### Ejercicio 1: Cálculo de masa molecular\n",
        "\n",
        "Calcula la **masa molecular** del agua (H₂O) usando las masas atómicas aproximadas del hidrógeno y oxígeno. La fórmula del agua indica que tiene 2 átomos de H y 1 átomo de O.\n",
        "\n",
        "* Masa atómica del **H** ≈ 1.008 u\n",
        "* Masa atómica del **O** ≈ 16.00 u\n",
        "\n",
        "**Objetivo:** Escribe un código que calcule la masa molecular del agua y la imprima en pantalla.\n",
        "\n",
        "<details><summary><strong>Solución</strong> (haz clic para mostrar):</summary><p>\n",
        "\n",
        "```python\n",
        "masa_H = 1.008   # u (unidades de masa atómica)\n",
        "masa_O = 16.00   # u\n",
        "masa_agua = 2 * masa_H + 1 * masa_O\n",
        "print(\"La masa molecular del agua (H2O) es aproximadamente:\", masa_agua, \"u\")\n",
        "```\n",
        "\n",
        "</p></details>"
      ],
      "metadata": {
        "id": "EvnJtMhzvuWm"
      }
    },
    {
      "cell_type": "markdown",
      "source": [
        "### Ejercicio 2: Clasificación de solución ácida o básica\n",
        "\n",
        "Escribe un programa que solicite al usuario ingresar el **pH** de una disolución y, con base en el valor ingresado, imprima si la disolución es **ácida**, **básica** o **neutra**. Recuerda: pH < 7 es ácido, pH = 7 es neutro, pH > 7 es básico.\n",
        "\n",
        "**Objetivo:** Utiliza la función `input()` para leer el pH como cadena, conviértelo a número (`float`), y luego aplica una estructura `if/elif/else` para clasificar el pH.\n",
        "\n",
        "<details><summary><strong>Solución</strong>:</summary><p>\n",
        "\n",
        "```python\n",
        "pH_str = input(\"Ingresa el pH de la disolución: \")\n",
        "# Convertir a valor numérico (float)\n",
        "try:\n",
        "    pH = float(pH_str)\n",
        "except:\n",
        "    print(\"Valor inválido. Por favor ingrese un número.\")\n",
        "else:\n",
        "    if pH < 7:\n",
        "        print(\"La disolución es ácida 🧪\")\n",
        "    elif pH > 7:\n",
        "        print(\"La disolución es básica 🧪\")\n",
        "    else:\n",
        "        print(\"La disolución es neutra 🧪\")\n",
        "```\n",
        "\n",
        "En la solución se incluye un manejo simple de posibles errores de conversión: si el usuario ingresa algo que no es número, el programa avisa. Esto es opcional pero recomendable. Si el valor es numérico, se procede a la clasificación pedida.\n",
        "\n",
        "</p></details>"
      ],
      "metadata": {
        "id": "wkuaaTnTv3ES"
      }
    },
    {
      "cell_type": "markdown",
      "source": [
        "### Ejercicio 3: Suma de una lista de masas atómicas\n",
        "\n",
        "Supón que tienes una molécula de etanol (C₂H₆O) y una lista con las masas atómicas de **cada átomo** de esa molécula. Por ejemplo, una lista para etanol podría ser:\n",
        "\n",
        "```python\n",
        "masas = [12.01, 12.01, 1.008, 1.008, 1.008, 1.008, 1.008, 1.008, 16.00]\n",
        "```\n",
        "\n",
        "*(En esa lista hay 2 valores de carbono \\~12.01, 6 valores de hidrógeno \\~1.008, y 1 valor de oxígeno 16.00, correspondientes a C₂H₆O.)*\n",
        "\n",
        "**Objetivo:** Escribe un programa que use un bucle `for` para recorrer la lista `masas` y calcular la **suma total**, es decir, la masa molecular del etanol. Finalmente, imprime el resultado.\n",
        "\n",
        "*Pista:* Inicializa una variable `suma_total = 0` y ve agregándole cada valor de la lista dentro del loop.\n",
        "\n",
        "<details><summary><strong>Solución</strong>:</summary><p>\n",
        "\n",
        "```python\n",
        "masas = [12.01, 12.01, 1.008, 1.008, 1.008, 1.008, 1.008, 1.008, 16.00]\n",
        "suma_total = 0\n",
        "for m in masas:\n",
        "    suma_total += m\n",
        "print(\"Masa molecular del etanol aproximada:\", suma_total, \"u\")\n",
        "```\n",
        "\n",
        "Tras ejecutar este código, deberías obtener alrededor de 46.07 u como masa molecular del etanol. (Si usaras `sum(masas)` directamente también obtendrías el resultado, pero el ejercicio era para practicar el bucle).\n",
        "\n",
        "</p></details>"
      ],
      "metadata": {
        "id": "e_aDaHBCnlDo"
      }
    },
    {
      "cell_type": "markdown",
      "source": [
        "# Conclusión"
      ],
      "metadata": {
        "id": "NjrVd-06dqUb"
      }
    },
    {
      "cell_type": "markdown",
      "source": [
        "<p align=\"center\">\n",
        "  <img src=\"https://media.tenor.com/5wGXzBmbvq4AAAAj/baile-insano-squirtle.gif\" alt=\"Baile\" width=\"400\" />\n",
        "</p>\n"
      ],
      "metadata": {
        "id": "A497-4Hy4XWl"
      }
    },
    {
      "cell_type": "markdown",
      "source": [
        "¡Felicidades! Hemos cubierto mucho terreno en este primer módulo. Vimos desde conceptos básicos de programación hasta ejemplos aplicados en química. Sabemos que abarcar todos los **fundamentos de Python** en un solo módulo es un gran desafío y es normal que aún queden dudas en el aire.\n",
        "\n",
        "La clave ahora es **practicar**. Con la práctica, irás afianzando cada concepto: crea tus propias variables, prueba operaciones, juega con condicionales y bucles, resuelve ejercicios adicionales… La programación es como un músculo que se desarrolla con el uso constante.\n",
        "\n",
        "Si alguna duda persiste, recuerda que existen miles de recursos en internet que pueden ser de gran ayuda. La comunidad de Python es enorme y muy dispuesta a ayudar. Algunos lugares y recomendaciones:"
      ],
      "metadata": {
        "id": "sDWwx88rnu_7"
      }
    },
    {
      "cell_type": "markdown",
      "source": [
        "# Recursos Adicionales"
      ],
      "metadata": {
        "id": "aup93Zh6dtYa"
      }
    },
    {
      "cell_type": "markdown",
      "source": [
        "* **[Stack Overflow](https://es.stackoverflow.com/):** Foro de preguntas y respuestas para dudas puntuales de programación (existe versión en español).\n",
        "* **[GitHub](https://github.com/):** Plataforma donde puedes explorar proyectos de código abierto (muchos en Python) y aprender del código escrito por otros.\n",
        "* **[Codédex](https://www.codedex.io/home):** Plataforma interactiva (en español) para aprender Python con ejercicios prácticos.\n",
        "* **[Documentación oficial de Python](https://docs.python.org/es/3.10/):** Manual de referencia completo de Python (en español, versión 3.10 en este enlace; puedes buscar la versión más reciente).\n",
        "* **[El Libro de Python](https://ellibrodepython.com/):** Un excelente recurso en español que cubre desde lo básico hasta temas avanzados de Python.\n",
        "* **[W3Schools - Python](https://www.w3schools.com/python/):** Tutoriales paso a paso y ejemplos prácticos, ideal para repasar conceptos específicos rápidamente."
      ],
      "metadata": {
        "id": "T5wRaFASnyEl"
      }
    },
    {
      "cell_type": "markdown",
      "source": [
        "# Buenas prácticas básicas de programación"
      ],
      "metadata": {
        "id": "MT_eVtWG91Z3"
      }
    },
    {
      "cell_type": "markdown",
      "source": [
        "Para finalizar este módulo, hablemos de algunas buenas prácticas que conviene adoptar desde el inicio de este viaje en la programación. Estas recomendaciones harán tu código más **legible**, **mantenible** y con menos errores (¡así tus experimentos computacionales serán más reproducibles y confiables!):\n",
        "\n",
        "* **Nombres descriptivos:** Elige nombres de variables y funciones que describan su propósito. Por ejemplo, `temp_reaccion` es más claro que `t` si representa una temperatura de reacción. Evita nombres excesivamente cortos o genéricos como `x` o `dato` salvo en casos muy simples o índices en bucles. También evita caracteres especiales o espacios (usa guiones bajos `_` para separar palabras). Recuerda que Python es sensible a mayúsculas/minúsculas: `Masa` y `masa` son variables distintas, por lo que manten una convención consistente (por lo general, se usan nombres en minúsculas\\_separados\\_por\\_guiones\\_bajos para variables y funciones).\n",
        "* **Comentarios útiles:** Agrega comentarios (`# comentario`) para explicar *por qué* haces algo, especialmente si el código no es evidente. No es necesario comentar cada línea obvia; enfócate en clarificar partes complejas, supuestos o intentos. Un comentario bien ubicado puede ayudar a otro (o a ti mismo en el futuro) a entender rápidamente el código.\n",
        "* **Docstrings en funciones:** Ya vimos que puedes incluir una cadena al inicio de la definición de una función para describir su comportamiento. Esto es muy útil porque herramientas como `help(mi_funcion)` mostrarán esa documentación. Acostúmbrate a anotar brevemente lo que hace la función, sus parámetros y lo que devuelve.\n",
        "* **Formateo y estilo consistente:** Indenta siempre tu código correctamente (Colab lo hace automáticamente en muchos casos). Usa espacios alrededor de operadores (por ejemplo, `a = b + c` en lugar de `a=b+c` para mejor legibilidad). Para bloques lógicos, deja una línea en blanco para separarlos visualmente. Python tiene una guía de estilo oficial llamada **PEP 8**, que puedes consultar como referencia de convenciones (no necesitas memorizarla, pero ser consciente de ella ayuda a escribir código limpio).\n",
        "* **No reinventes la rueda:** Si necesitas hacer algo complejo, antes de programarlo desde cero, piensa si ya existe un módulo o función que lo provea. Por ejemplo, para matemáticas hay módulos como `math` o `numpy`, para manejo de CSV hay `csv` o `pandas`, etc. Usar las bibliotecas estándar o populares no solo ahorra tiempo sino que suele ser más seguro y eficiente -aunque esto lo veremos en el siguiente módulo-.\n",
        "* **Prueba y error controlado:** Prueba tu código con datos sencillos para verificar que funciona como esperas (por ejemplo, probar tu función de masa molecular con un compuesto simple conocido). Maneja errores potenciales (como divisiones por cero, archivos no encontrados) usando verificaciones (`if`/`else`) o incluso estructuras como `try/except` (que veremos más adelante). Así evitas que el programa \"explote\" a mitad de un cálculo importante.\n",
        "* **Mantén copia de tus trabajos:** En contextos como Google Colab, es buena práctica guardar una copia de seguridad de tu notebook (por ejemplo, en Drive o GitHub). Nunca está de más tener un respaldo de tus códigos, especialmente si los vas a expandir o compartir.\n",
        "\n",
        "Siguiendo estas buenas prácticas, tu código será más **claro** para ti y otros. ¡Un código limpio equivale a investigaciones más ágiles y colaborativas! Ahora sí, con estos fundamentos en la cabeza, estamos listo para continuar..."
      ],
      "metadata": {
        "id": "BXsi5H6T97Q6"
      }
    },
    {
      "cell_type": "markdown",
      "source": [
        "# Referencias"
      ],
      "metadata": {
        "id": "0ih2Q4NAn1N5"
      }
    },
    {
      "cell_type": "markdown",
      "source": [
        "1. Downey, A., Elkner, J., & Meyers, C. (2002). *Aprenda a pensar como un programador con Python* (trad. A. Vilella et al.). Green Tea Press. (Versión original: *How to Think Like a Computer Scientist: Learning with Python*).\n"
      ],
      "metadata": {
        "id": "wycR_nxyn3c5"
      }
    }
  ]
}